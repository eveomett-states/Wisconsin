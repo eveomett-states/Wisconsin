{
 "cells": [
  {
   "cell_type": "code",
   "execution_count": 1,
   "metadata": {},
   "outputs": [],
   "source": [
    "import pandas as pd\n",
    "import geopandas as gpd\n",
    "import maup\n",
    "import time\n",
    "from maup import smart_repair\n",
    "from gerrychain import Graph\n",
    "import math\n",
    "\n",
    "maup.progress.enabled = True"
   ]
  },
  {
   "cell_type": "code",
   "execution_count": 2,
   "metadata": {},
   "outputs": [],
   "source": [
    "import warnings\n",
    "warnings.filterwarnings(\"ignore\")"
   ]
  },
  {
   "cell_type": "code",
   "execution_count": 3,
   "metadata": {},
   "outputs": [],
   "source": [
    "# state = Wisconsin\n",
    "state_ab = \"wi\""
   ]
  },
  {
   "cell_type": "markdown",
   "metadata": {},
   "source": [
    "## Data\n",
    "1. Download all the data in directory \"wi_data\"\n",
    "2. Extract them all"
   ]
  },
  {
   "cell_type": "code",
   "execution_count": 5,
   "metadata": {},
   "outputs": [],
   "source": [
    "data_folder = state_ab + \"_data/\"\n",
    "population1_data = \"./{}{}_pl2020_b/{}_pl2020_p1_b.shp\".format(data_folder, state_ab, state_ab)\n",
    "population2_data = \"./{}{}_pl2020_b/{}_pl2020_p2_b.shp\".format(data_folder, state_ab, state_ab)\n",
    "vap_data =  \"./{}{}_pl2020_b/{}_pl2020_p4_b.shp\".format(data_folder, state_ab, state_ab)\n",
    "vest20_data = \"./{}{}_vest_20/{}_vest_20.shp\".format(data_folder, state_ab, state_ab)\n",
    "vest18_data = \"./{}{}_vest_18/{}_vest_18.shp\".format(data_folder, state_ab, state_ab)\n",
    "vest16_data = \"./{}{}_vest_16/{}_vest_16.shp\".format(data_folder, state_ab, state_ab)\n",
    "cd_data = \"./{}{}_cong_adopted_2022/POLYGON.shp\".format(data_folder, state_ab)\n",
    "send_data = \"./{}{}_sldu_adopted_2023/SenateDistricts_2023WIAct94/SenateDistricts_2023WIAct94.shp\".format(data_folder, state_ab)\n",
    "hdist_data = \"./{}{}_sldl_adopted_2023/AssemblyDistricts_2023WIAct94/AssemblyDistricts_2023WIAct94.shp\".format(data_folder, state_ab)\n",
    "county_data = \"./{}{}_pl2020_cnty/{}_pl2020_cnty.shp\".format(data_folder, state_ab, state_ab)"
   ]
  },
  {
   "cell_type": "code",
   "execution_count": 6,
   "metadata": {},
   "outputs": [],
   "source": [
    "def do_smart_repair(df, min_rook_length = None, snap_precision = 10):\n",
    "    # change it to the UTM it needs for smart_repair\n",
    "    df = df.to_crs(df.estimate_utm_crs())\n",
    "    df = smart_repair(df, min_rook_length = min_rook_length, snap_precision = snap_precision)\n",
    "\n",
    "    # Edited this to now throw exception.  Upon inspection, the hole is Lake Winnebago\n",
    "    if maup.doctor(df) == False:\n",
    "        print(\"There was some issue.  Check it out!\")\n",
    "        #raise Exception('maup.doctor failed')\n",
    "    \n",
    "    return df"
   ]
  },
  {
   "cell_type": "code",
   "execution_count": 7,
   "metadata": {},
   "outputs": [],
   "source": [
    "def add_district(dist_df, dist_name, election_df, col_name):\n",
    "    election_df = election_df.to_crs(election_df.estimate_utm_crs())\n",
    "    dist_df = dist_df.to_crs(dist_df.estimate_utm_crs())\n",
    "    # check if it needs to be smart_repair\n",
    "    if maup.doctor(dist_df) != True:\n",
    "        dist_df = do_smart_repair(dist_df)\n",
    "\n",
    "    # assign the pricincts\n",
    "    precincts_to_district_assignment = maup.assign(election_df.geometry, dist_df.geometry)\n",
    "    election_df[dist_name] = precincts_to_district_assignment\n",
    "    for precinct_index in range(len(election_df)):\n",
    "        if not math.isnan(election_df.at[precinct_index, dist_name]): #Note: added this b/c of hole over Lake Winnebago\n",
    "            election_df.at[precinct_index, dist_name] = dist_df.at[election_df.at[precinct_index, dist_name], col_name]\n",
    "\n",
    "    return election_df"
   ]
  },
  {
   "cell_type": "code",
   "execution_count": 8,
   "metadata": {},
   "outputs": [],
   "source": [
    "def rename(original, year):\n",
    "    party = original[6]\n",
    "    if party == 'R' or party == 'D':\n",
    "        return original[3:6] + year + original[6]\n",
    "    else:\n",
    "        return original[3:6] + year + 'O'"
   ]
  },
  {
   "cell_type": "code",
   "execution_count": 9,
   "metadata": {},
   "outputs": [],
   "source": [
    "pop_col = ['TOTPOP', 'HISP', 'NH_WHITE', 'NH_BLACK', 'NH_AMIN', 'NH_ASIAN', 'NH_NHPI', 'NH_OTHER', 'NH_2MORE', 'H_WHITE', 'H_BLACK', 'H_AMIN', 'H_ASIAN', 'H_NHPI', 'H_OTHER', 'H_2MORE', 'VAP', 'HVAP', 'WVAP', 'BVAP', 'AMINVAP', 'ASIANVAP', 'NHPIVAP', 'OTHERVAP', '2MOREVAP']"
   ]
  },
  {
   "cell_type": "code",
   "execution_count": 10,
   "metadata": {},
   "outputs": [],
   "source": [
    "def check_population(population, df):\n",
    "    pop_check = pd.DataFrame({\n",
    "        'pop_col': pop_col,\n",
    "        'population_df': population[pop_col].sum(), \n",
    "        'vest_base': df[pop_col].sum(),\n",
    "        'equal': [x == y for x, y in zip(population[pop_col].sum(), df[pop_col].sum())]\n",
    "    })\n",
    "    if pop_check['equal'].mean() < 1:\n",
    "        print(pop_check)\n",
    "        raise Exception(\"population doesn't agree\")\n",
    "\n",
    "    else:\n",
    "        print(\"population agrees\")"
   ]
  },
  {
   "cell_type": "code",
   "execution_count": 11,
   "metadata": {},
   "outputs": [],
   "source": [
    "def add_vest(vest, df, year, population, start_col, snap_precision = 10):\n",
    "    df = df.to_crs(df.estimate_utm_crs())\n",
    "    vest = vest.to_crs(vest.estimate_utm_crs())\n",
    "    population = population.to_crs(population.estimate_utm_crs())\n",
    "    df_crs = df.crs\n",
    "    vest_crs = vest.crs\n",
    "    \n",
    "     # check if it needs to be smart_repair\n",
    "    if maup.doctor(vest) != True:\n",
    "        vest = do_smart_repair(vest, snap_precision = snap_precision)\n",
    "    \n",
    "    # rename the columns\n",
    "    original_col = vest.columns[start_col:-1]\n",
    "    new_col = [rename(i, year) for i in original_col]\n",
    "    rename_dict = dict(zip(original_col, new_col))\n",
    "    vest = vest.rename(columns=rename_dict)\n",
    "    vest = vest.groupby(level=0, axis=1).sum() # combine all the other party's vote into columns with sufix \"O\"\n",
    "    col_name = list(set(new_col))\n",
    "    col_name.sort()\n",
    "    \n",
    "    # make the blocks from precincts by weight\n",
    "    vest = gpd.GeoDataFrame(vest, crs=vest_crs)\n",
    "    election_in_block = population[[\"VAP\", 'geometry']] # population_df is in block scale\n",
    "    blocks_to_precincts_assignment = maup.assign(election_in_block.geometry, vest.geometry)\n",
    "    weights = election_in_block[\"VAP\"] / blocks_to_precincts_assignment.map(election_in_block[\"VAP\"].groupby(blocks_to_precincts_assignment).sum())\n",
    "    weights = weights.fillna(0)\n",
    "    prorated = maup.prorate(blocks_to_precincts_assignment, vest[col_name], weights)\n",
    "    election_in_block[col_name] = prorated\n",
    "    \n",
    "    # assign blocks to precincts\n",
    "    election_in_block = gpd.GeoDataFrame(election_in_block, crs=vest_crs)\n",
    "    df = gpd.GeoDataFrame(df, crs=df_crs)\n",
    "    block_to_pricinct_assginment = maup.assign(election_in_block.geometry, df.geometry)\n",
    "    df[col_name] = election_in_block[col_name].groupby(block_to_pricinct_assginment).sum()\n",
    "    df = df.groupby(level=0, axis=1).sum()\n",
    "    df = gpd.GeoDataFrame(df, crs = df_crs)\n",
    "    # check if population agrees\n",
    "    check_population(population, df)\n",
    "    \n",
    "    return df"
   ]
  },
  {
   "cell_type": "code",
   "execution_count": 12,
   "metadata": {},
   "outputs": [],
   "source": [
    "def add_vest_base(vest, start_col, year, county = None, min_rook_length = None, snap_precision = 10):\n",
    "    vest = vest.to_crs(vest.estimate_utm_crs())\n",
    "    vest_crs = vest.crs\n",
    "    original_col = vest.columns[start_col:-1]\n",
    "    new_col = [rename(i, year) for i in original_col]\n",
    "    rename_dict = dict(zip(original_col, new_col))\n",
    "    vest = vest.rename(columns=rename_dict)\n",
    "    vest = vest.groupby(level=0, axis=1).sum()\n",
    "    vest = gpd.GeoDataFrame(vest, crs=vest_crs)\n",
    "\n",
    "    if county is not None:\n",
    "        county = county.to_crs(county.estimate_utm_crs())\n",
    "        vest = smart_repair(vest, nest_within_regions = county, min_rook_length = min_rook_length, snap_precision = snap_precision) # nest precincts within counties\n",
    "\n",
    "    else:\n",
    "        vest = smart_repair(vest, min_rook_length = min_rook_length, snap_precision = snap_precision) \n",
    "    \n",
    "    return vest"
   ]
  },
  {
   "cell_type": "code",
   "execution_count": 13,
   "metadata": {},
   "outputs": [],
   "source": [
    "def check_small_boundary_lengths(vest_base):\n",
    "    import copy\n",
    "    vest_base = vest_base.to_crs(vest_base.estimate_utm_crs())\n",
    "\n",
    "    boundaries = copy.deepcopy(vest_base)\n",
    "    boundaries[\"geometry\"] = boundaries.geometry.boundary  # get boundaries\n",
    "    neighbors = gpd.sjoin(boundaries, vest_base, predicate=\"intersects\") # find boundaries that intersect\n",
    "    neighbors = neighbors[neighbors.index != neighbors.index_right] # remove boundaries of a region with itself\n",
    "\n",
    "    # compute shared border length using intersection\n",
    "    borders = list(neighbors.apply(\n",
    "        lambda row: row.geometry.intersection(vest_base.loc[row.index_right, \"geometry\"]).length, axis=1\n",
    "    ))\n",
    "\n",
    "    borders.sort()\n",
    "    \n",
    "    return borders"
   ]
  },
  {
   "cell_type": "markdown",
   "metadata": {},
   "source": [
    "### Read the census data"
   ]
  },
  {
   "cell_type": "code",
   "execution_count": 15,
   "metadata": {},
   "outputs": [],
   "source": [
    "population1_df = gpd.read_file(population1_data)\n",
    "population2_df = gpd.read_file(population2_data)\n",
    "vap_df = gpd.read_file(vap_data)\n",
    "county_df = gpd.read_file(county_data)"
   ]
  },
  {
   "cell_type": "code",
   "execution_count": 16,
   "metadata": {},
   "outputs": [],
   "source": [
    "population2_df = population2_df.drop(columns=['SUMLEV', 'LOGRECNO', 'GEOID', 'COUNTY', 'geometry'])\n",
    "vap_df = vap_df.drop(columns=['SUMLEV', 'LOGRECNO', 'GEOID', 'COUNTY', 'geometry'])"
   ]
  },
  {
   "cell_type": "code",
   "execution_count": 17,
   "metadata": {},
   "outputs": [],
   "source": [
    "population_df = pd.merge(population1_df, population2_df, on='GEOID20')\n",
    "population_df = pd.merge(population_df, vap_df, on='GEOID20')\n",
    "population_df = population_df.to_crs(population_df.estimate_utm_crs())"
   ]
  },
  {
   "cell_type": "code",
   "execution_count": 18,
   "metadata": {},
   "outputs": [
    {
     "name": "stderr",
     "output_type": "stream",
     "text": [
      "100%|█████████████████████████████████| 203059/203059 [01:15<00:00, 2704.33it/s]\n"
     ]
    },
    {
     "data": {
      "text/plain": [
       "True"
      ]
     },
     "execution_count": 18,
     "metadata": {},
     "output_type": "execute_result"
    }
   ],
   "source": [
    "maup.doctor(population_df)"
   ]
  },
  {
   "cell_type": "code",
   "execution_count": 19,
   "metadata": {},
   "outputs": [],
   "source": [
    "population_df['H_WHITE'] = population_df.apply(lambda t: t['P0010003'] - t['P0020005'], 1)\n",
    "population_df['H_BLACK'] = population_df.apply(lambda t: t['P0010004'] - t['P0020006'], 1)\n",
    "population_df['H_AMIN'] = population_df.apply(lambda t: t['P0010005'] - t['P0020007'], 1)\n",
    "population_df['H_ASIAN'] = population_df.apply(lambda t: t['P0010006'] - t['P0020008'], 1)\n",
    "population_df['H_NHPI'] = population_df.apply(lambda t: t['P0010007'] - t['P0020009'], 1)\n",
    "population_df['H_OTHER'] = population_df.apply(lambda t: t['P0010008'] - t['P0020010'], 1)\n",
    "population_df['H_2MORE'] = population_df.apply(lambda t: t['P0010009'] - t['P0020011'], 1)"
   ]
  },
  {
   "cell_type": "code",
   "execution_count": 20,
   "metadata": {},
   "outputs": [],
   "source": [
    "rename_dict = {'P0020001': 'TOTPOP', 'P0020002': 'HISP', 'P0020005': 'NH_WHITE', 'P0020006': 'NH_BLACK', 'P0020007': 'NH_AMIN',\n",
    "                    'P0020008': 'NH_ASIAN', 'P0020009': 'NH_NHPI', 'P0020010': 'NH_OTHER', 'P0020011': 'NH_2MORE',\n",
    "                    'P0040001': 'VAP', 'P0040002': 'HVAP', 'P0040005': 'WVAP', 'P0040006': 'BVAP', 'P0040007': 'AMINVAP',\n",
    "                                        'P0040008': 'ASIANVAP', 'P0040009': 'NHPIVAP', 'P0040010': 'OTHERVAP', 'P0040011': '2MOREVAP'}"
   ]
  },
  {
   "cell_type": "code",
   "execution_count": 21,
   "metadata": {},
   "outputs": [],
   "source": [
    "population_df.rename(columns=rename_dict, inplace = True)"
   ]
  },
  {
   "cell_type": "code",
   "execution_count": 22,
   "metadata": {},
   "outputs": [
    {
     "name": "stderr",
     "output_type": "stream",
     "text": [
      "100%|██████████████████████████████████████████| 72/72 [00:00<00:00, 657.34it/s]\n"
     ]
    },
    {
     "data": {
      "text/plain": [
       "True"
      ]
     },
     "execution_count": 22,
     "metadata": {},
     "output_type": "execute_result"
    }
   ],
   "source": [
    "county_df = county_df.to_crs(county_df.estimate_utm_crs())\n",
    "maup.doctor(county_df)"
   ]
  },
  {
   "cell_type": "markdown",
   "metadata": {},
   "source": [
    "## Read the vest 20 data\n",
    "\n",
    "Now using it as a \"base pricinct\""
   ]
  },
  {
   "cell_type": "markdown",
   "metadata": {},
   "source": [
    "## Check if vest20 can be used as base"
   ]
  },
  {
   "cell_type": "code",
   "execution_count": 25,
   "metadata": {},
   "outputs": [],
   "source": [
    "vest20 = gpd.read_file(vest20_data)"
   ]
  },
  {
   "cell_type": "code",
   "execution_count": 26,
   "metadata": {},
   "outputs": [
    {
     "data": {
      "text/plain": [
       "Index(['CNTY_FIPS', 'CNTY_NAME', 'MCD_FIPS', 'MCD_NAME', 'CTV', 'WARDID',\n",
       "       'LABEL', 'PERSONS', 'RV', 'G20PREDBID', 'G20PRERTRU', 'G20PRECBLA',\n",
       "       'G20PRELJOR', 'G20PREICAR', 'G20PREOWEL', 'G20PREOSIM', 'G20PREOBOD',\n",
       "       'G20PREOHAW', 'G20PREOLAR', 'G20PREOWES', 'G20PREOCHA', 'G20PREOWRI',\n",
       "       'geometry'],\n",
       "      dtype='object')"
      ]
     },
     "execution_count": 26,
     "metadata": {},
     "output_type": "execute_result"
    }
   ],
   "source": [
    "vest20.columns"
   ]
  },
  {
   "cell_type": "code",
   "execution_count": 27,
   "metadata": {},
   "outputs": [],
   "source": [
    "start_col = 9\n",
    "vest_base_data = vest20\n",
    "year = '20'"
   ]
  },
  {
   "cell_type": "code",
   "execution_count": 28,
   "metadata": {},
   "outputs": [
    {
     "name": "stderr",
     "output_type": "stream",
     "text": [
      "100%|██████████████████████████████████████████| 72/72 [00:00<00:00, 674.55it/s]\n"
     ]
    },
    {
     "name": "stdout",
     "output_type": "stream",
     "text": [
      "Snapping all geometries to a grid with precision 10^( -5 ) to avoid GEOS errors.\n"
     ]
    },
    {
     "name": "stderr",
     "output_type": "stream",
     "text": [
      "100%|██████████████████████████████████████████| 72/72 [00:00<00:00, 715.33it/s]\n",
      "100%|██████████████████████████████████████████| 72/72 [00:00<00:00, 176.15it/s]\n"
     ]
    },
    {
     "name": "stdout",
     "output_type": "stream",
     "text": [
      "Identifying overlaps...\n"
     ]
    },
    {
     "name": "stderr",
     "output_type": "stream",
     "text": [
      "100%|███████████████████████████████████| 15336/15336 [00:04<00:00, 3198.58it/s]\n"
     ]
    },
    {
     "name": "stdout",
     "output_type": "stream",
     "text": [
      "Resolving overlaps and filling gaps...\n"
     ]
    },
    {
     "name": "stderr",
     "output_type": "stream",
     "text": [
      "100%|██████████████████████████████████████████| 72/72 [00:00<00:00, 862.79it/s]\n",
      "100%|██████████████████████████████████████████| 72/72 [00:00<00:00, 177.16it/s]\n",
      "Gaps to simplify in region 0: 100%|█████████████| 79/79 [00:20<00:00,  3.78it/s]\n",
      "Gaps to fill in region 0: 100%|████████████████| 71/71 [00:00<00:00, 106.76it/s]\n",
      "Gaps to simplify in region 1: 100%|█████████████| 57/57 [00:07<00:00,  7.40it/s]\n",
      "Gaps to fill in region 1: 100%|█████████████████| 66/66 [00:00<00:00, 81.58it/s]\n",
      "Gaps to simplify in region 2: 40it [00:07,  5.69it/s]                           \n",
      "Gaps to fill in region 2: 100%|█████████████████| 58/58 [00:01<00:00, 43.52it/s]\n",
      "Gaps to simplify in region 3: 100%|█████████████| 74/74 [00:01<00:00, 46.31it/s]\n",
      "Gaps to fill in region 3: 100%|█████████████████| 22/22 [00:00<00:00, 40.65it/s]\n",
      "Gaps to simplify in region 4: 100%|█████████████| 62/62 [00:03<00:00, 18.55it/s]\n",
      "Gaps to fill in region 4: 100%|████████████████| 62/62 [00:00<00:00, 124.72it/s]\n",
      "Gaps to simplify in region 5: 100%|████████████| 88/88 [00:00<00:00, 108.38it/s]\n",
      "Gaps to fill in region 5: 100%|█████████████████| 22/22 [00:00<00:00, 49.14it/s]\n",
      "Gaps to simplify in region 6: 100%|███████████| 110/110 [00:09<00:00, 12.03it/s]\n",
      "Gaps to fill in region 6: 100%|████████████████| 59/59 [00:00<00:00, 113.16it/s]\n",
      "Gaps to simplify in region 7: 100%|█████████████| 78/78 [00:00<00:00, 93.07it/s]\n",
      "Gaps to fill in region 7: 100%|█████████████████| 17/17 [00:00<00:00, 48.14it/s]\n"
     ]
    },
    {
     "name": "stdout",
     "output_type": "stream",
     "text": [
      "2 gaps in region 8 will remain unfilled, because they either are not simply connected or exceed the area threshold.\n"
     ]
    },
    {
     "name": "stderr",
     "output_type": "stream",
     "text": [
      "Gaps to simplify in region 8: 100%|███████████| 160/160 [00:02<00:00, 59.99it/s]\n",
      "Gaps to fill in region 8: 100%|█████████████████| 10/10 [00:00<00:00, 22.02it/s]\n",
      "Gaps to simplify in region 9: 100%|█████████████| 93/93 [00:01<00:00, 75.64it/s]\n",
      "Gaps to fill in region 9: 100%|█████████████████| 18/18 [00:00<00:00, 49.67it/s]\n"
     ]
    },
    {
     "name": "stdout",
     "output_type": "stream",
     "text": [
      "1 gaps in region 10 will remain unfilled, because they either are not simply connected or exceed the area threshold.\n"
     ]
    },
    {
     "name": "stderr",
     "output_type": "stream",
     "text": [
      "Gaps to simplify in region 10: 100%|████████████| 19/19 [00:01<00:00, 14.17it/s]\n",
      "Gaps to fill in region 10: 100%|████████████████| 12/12 [00:01<00:00, 11.26it/s]\n",
      "Gaps to simplify in region 11: 100%|██████████| 121/121 [00:04<00:00, 28.80it/s]\n",
      "Gaps to fill in region 11: 100%|████████████████| 67/67 [00:00<00:00, 90.23it/s]\n",
      "Gaps to simplify in region 12: 73it [00:01, 45.45it/s]                          \n",
      "Gaps to fill in region 12: 100%|████████████████| 34/34 [00:01<00:00, 31.10it/s]\n",
      "Gaps to simplify in region 13: 155it [00:04, 38.29it/s]                         \n",
      "Gaps to fill in region 13: 100%|████████████████| 32/32 [00:01<00:00, 19.40it/s]\n"
     ]
    },
    {
     "name": "stdout",
     "output_type": "stream",
     "text": [
      "1 gaps in region 14 will remain unfilled, because they either are not simply connected or exceed the area threshold.\n"
     ]
    },
    {
     "name": "stderr",
     "output_type": "stream",
     "text": [
      "Gaps to simplify in region 14: 100%|████████████| 43/43 [00:00<00:00, 86.82it/s]\n",
      "Gaps to fill in region 14: 100%|██████████████████| 7/7 [00:00<00:00, 45.82it/s]\n",
      "Gaps to simplify in region 15: 100%|████████████| 62/62 [00:01<00:00, 34.60it/s]\n",
      "Gaps to fill in region 15: 100%|████████████████| 38/38 [00:00<00:00, 43.44it/s]\n",
      "Gaps to simplify in region 16: 100%|████████████| 67/67 [00:03<00:00, 20.43it/s]\n",
      "Gaps to fill in region 16: 100%|███████████████| 72/72 [00:00<00:00, 123.23it/s]\n",
      "Gaps to simplify in region 17: 100%|███████████| 79/79 [00:00<00:00, 103.26it/s]\n",
      "Gaps to fill in region 17: 100%|████████████████| 25/25 [00:00<00:00, 58.78it/s]\n"
     ]
    },
    {
     "name": "stdout",
     "output_type": "stream",
     "text": [
      "1 gaps in region 18 will remain unfilled, because they either are not simply connected or exceed the area threshold.\n"
     ]
    },
    {
     "name": "stderr",
     "output_type": "stream",
     "text": [
      "Gaps to simplify in region 18: 100%|████████████| 47/47 [00:01<00:00, 23.73it/s]\n",
      "Gaps to fill in region 18: 100%|███████████████| 29/29 [00:00<00:00, 115.35it/s]\n",
      "Gaps to simplify in region 19: 100%|████████████| 50/50 [00:01<00:00, 37.51it/s]\n",
      "Gaps to fill in region 19: 100%|██████████████████| 7/7 [00:00<00:00,  7.37it/s]\n"
     ]
    },
    {
     "name": "stdout",
     "output_type": "stream",
     "text": [
      "1 gaps in region 20 will remain unfilled, because they either are not simply connected or exceed the area threshold.\n"
     ]
    },
    {
     "name": "stderr",
     "output_type": "stream",
     "text": [
      "Gaps to simplify in region 20: 100%|████████████| 40/40 [00:02<00:00, 16.24it/s]\n",
      "Gaps to fill in region 20: 100%|████████████████| 25/25 [00:00<00:00, 47.13it/s]\n",
      "Gaps to simplify in region 21: 100%|████████████| 21/21 [00:04<00:00,  4.48it/s]\n",
      "Gaps to fill in region 21: 100%|███████████████| 67/67 [00:00<00:00, 166.83it/s]\n",
      "Gaps to simplify in region 22: 100%|████████████| 57/57 [00:00<00:00, 66.52it/s]\n",
      "Gaps to fill in region 22: 100%|████████████████| 18/18 [00:00<00:00, 33.93it/s]\n"
     ]
    },
    {
     "name": "stdout",
     "output_type": "stream",
     "text": [
      "1 gaps in region 23 will remain unfilled, because they either are not simply connected or exceed the area threshold.\n"
     ]
    },
    {
     "name": "stderr",
     "output_type": "stream",
     "text": [
      "Gaps to simplify in region 23: 100%|████████████| 57/57 [00:02<00:00, 28.23it/s]\n",
      "Gaps to fill in region 23: 100%|████████████████| 17/17 [00:01<00:00,  9.58it/s]\n",
      "Gaps to simplify in region 24: 100%|████████████| 63/63 [00:00<00:00, 93.24it/s]\n",
      "Gaps to fill in region 24: 100%|██████████████████| 7/7 [00:00<00:00, 44.93it/s]\n"
     ]
    },
    {
     "name": "stdout",
     "output_type": "stream",
     "text": [
      "1 gaps in region 25 will remain unfilled, because they either are not simply connected or exceed the area threshold.\n"
     ]
    },
    {
     "name": "stderr",
     "output_type": "stream",
     "text": [
      "Gaps to simplify in region 25: 100%|████████████| 31/31 [00:00<00:00, 48.85it/s]\n",
      "Gaps to fill in region 25: 100%|████████████████| 12/12 [00:00<00:00, 48.96it/s]\n",
      "Gaps to simplify in region 26: 100%|████████████| 56/56 [00:01<00:00, 42.61it/s]\n",
      "Gaps to fill in region 26: 100%|██████████████████| 9/9 [00:01<00:00,  6.99it/s]\n"
     ]
    },
    {
     "name": "stdout",
     "output_type": "stream",
     "text": [
      "1 gaps in region 27 will remain unfilled, because they either are not simply connected or exceed the area threshold.\n"
     ]
    },
    {
     "name": "stderr",
     "output_type": "stream",
     "text": [
      "Gaps to simplify in region 27: 100%|██████████| 231/231 [00:03<00:00, 75.69it/s]\n",
      "Gaps to fill in region 27: 100%|████████████████| 30/30 [00:00<00:00, 72.33it/s]\n",
      "Gaps to simplify in region 28: 100%|████████████| 56/56 [00:00<00:00, 75.39it/s]\n",
      "Gaps to fill in region 28: 100%|████████████████| 12/12 [00:00<00:00, 96.31it/s]\n",
      "Gaps to simplify in region 29: 119it [00:02, 51.72it/s]                         \n",
      "Gaps to fill in region 29: 100%|████████████████| 28/28 [00:00<00:00, 52.74it/s]\n",
      "Gaps to simplify in region 30: 100%|████████████| 82/82 [00:01<00:00, 53.84it/s]\n",
      "Gaps to fill in region 30: 100%|████████████████| 22/22 [00:00<00:00, 41.48it/s]\n",
      "Gaps to simplify in region 31: 100%|████████████| 66/66 [00:02<00:00, 24.26it/s]\n",
      "Gaps to fill in region 31: 100%|████████████████| 64/64 [00:00<00:00, 71.54it/s]\n",
      "Gaps to simplify in region 32: 78it [00:01, 52.65it/s]                          \n",
      "Gaps to fill in region 32: 100%|████████████████| 24/24 [00:00<00:00, 40.42it/s]\n",
      "Gaps to simplify in region 33: 100%|████████████| 72/72 [00:06<00:00, 10.78it/s]\n",
      "Gaps to fill in region 33: 100%|████████████████| 26/26 [00:00<00:00, 48.09it/s]\n",
      "Gaps to simplify in region 34: 100%|████████████| 35/35 [00:01<00:00, 19.10it/s]\n",
      "Gaps to fill in region 34: 100%|███████████████| 40/40 [00:00<00:00, 117.50it/s]\n",
      "Gaps to simplify in region 35: 100%|████████████| 86/86 [00:02<00:00, 42.48it/s]\n",
      "Gaps to fill in region 35: 100%|████████████████| 24/24 [00:01<00:00, 19.21it/s]\n",
      "Gaps to simplify in region 36: 100%|████████████| 94/94 [00:05<00:00, 17.31it/s]\n",
      "Gaps to fill in region 36: 100%|███████████████| 59/59 [00:00<00:00, 133.69it/s]\n",
      "Gaps to simplify in region 37: 100%|████████████| 21/21 [00:00<00:00, 36.55it/s]\n",
      "Gaps to fill in region 37: 100%|██████████████████| 5/5 [00:00<00:00, 46.83it/s]\n"
     ]
    },
    {
     "name": "stdout",
     "output_type": "stream",
     "text": [
      "1 gaps in region 38 will remain unfilled, because they either are not simply connected or exceed the area threshold.\n"
     ]
    },
    {
     "name": "stderr",
     "output_type": "stream",
     "text": [
      "Gaps to simplify in region 38: 100%|████████████| 49/49 [00:01<00:00, 35.07it/s]\n",
      "Gaps to fill in region 38: 100%|████████████████| 15/15 [00:00<00:00, 27.19it/s]\n"
     ]
    },
    {
     "name": "stdout",
     "output_type": "stream",
     "text": [
      "1 gaps in region 39 will remain unfilled, because they either are not simply connected or exceed the area threshold.\n"
     ]
    },
    {
     "name": "stderr",
     "output_type": "stream",
     "text": [
      "Gaps to simplify in region 39: 100%|████████████| 61/61 [00:01<00:00, 35.99it/s]\n",
      "Gaps to fill in region 39: 100%|██████████████████| 6/6 [00:00<00:00, 50.76it/s]\n",
      "Gaps to simplify in region 40: 93it [00:15,  5.87it/s]                          \n",
      "Gaps to fill in region 40: 100%|██████████████| 116/116 [00:01<00:00, 82.87it/s]\n",
      "Gaps to simplify in region 41: 100%|████████████| 45/45 [00:15<00:00,  2.92it/s]\n",
      "Gaps to fill in region 41: 100%|███████████████| 84/84 [00:00<00:00, 124.07it/s]\n",
      "Gaps to simplify in region 42: 100%|████████████| 55/55 [00:10<00:00,  5.13it/s]\n",
      "Gaps to fill in region 42: 100%|████████████████| 57/57 [00:00<00:00, 72.14it/s]\n",
      "Gaps to simplify in region 43: 100%|████████████| 72/72 [00:00<00:00, 73.68it/s]\n",
      "Gaps to fill in region 43: 100%|████████████████| 26/26 [00:00<00:00, 97.61it/s]\n",
      "Gaps to simplify in region 44: 100%|██████████| 132/132 [00:01<00:00, 99.74it/s]\n",
      "Gaps to fill in region 44: 100%|████████████████| 19/19 [00:00<00:00, 67.79it/s]\n",
      "Gaps to simplify in region 45: 100%|████████████| 60/60 [00:01<00:00, 59.71it/s]\n",
      "Gaps to fill in region 45: 100%|████████████████| 14/14 [00:00<00:00, 40.99it/s]\n",
      "Gaps to simplify in region 46: 36it [00:04,  8.55it/s]                          \n",
      "Gaps to fill in region 46: 100%|████████████████| 28/28 [00:01<00:00, 22.68it/s]\n",
      "Gaps to simplify in region 47: 41it [00:09,  4.18it/s]                          \n",
      "Gaps to fill in region 47: 100%|████████████████| 74/74 [00:00<00:00, 79.05it/s]\n"
     ]
    },
    {
     "name": "stdout",
     "output_type": "stream",
     "text": [
      "1 gaps in region 48 will remain unfilled, because they either are not simply connected or exceed the area threshold.\n"
     ]
    },
    {
     "name": "stderr",
     "output_type": "stream",
     "text": [
      "Gaps to simplify in region 48: 100%|████████████| 17/17 [00:00<00:00, 30.07it/s]\n",
      "Gaps to fill in region 48: 100%|████████████████| 12/12 [00:00<00:00, 21.36it/s]\n"
     ]
    },
    {
     "name": "stdout",
     "output_type": "stream",
     "text": [
      "1 gaps in region 49 will remain unfilled, because they either are not simply connected or exceed the area threshold.\n"
     ]
    },
    {
     "name": "stderr",
     "output_type": "stream",
     "text": [
      "Gaps to simplify in region 49: 100%|████████████| 48/48 [00:01<00:00, 25.56it/s]\n",
      "Gaps to fill in region 49: 100%|████████████████| 29/29 [00:01<00:00, 19.55it/s]\n"
     ]
    },
    {
     "name": "stdout",
     "output_type": "stream",
     "text": [
      "1 gaps in region 50 will remain unfilled, because they either are not simply connected or exceed the area threshold.\n"
     ]
    },
    {
     "name": "stderr",
     "output_type": "stream",
     "text": [
      "Gaps to simplify in region 50: 100%|████████████| 46/46 [00:01<00:00, 37.07it/s]\n",
      "Gaps to fill in region 50: 100%|██████████████████| 7/7 [00:00<00:00, 22.47it/s]\n",
      "Gaps to simplify in region 51: 100%|████████████| 93/93 [00:01<00:00, 71.51it/s]\n",
      "Gaps to fill in region 51: 100%|████████████████| 14/14 [00:00<00:00, 29.57it/s]\n",
      "Gaps to simplify in region 52: 100%|████████████| 58/58 [00:02<00:00, 24.25it/s]\n",
      "Gaps to fill in region 52: 100%|████████████████| 45/45 [00:00<00:00, 96.18it/s]\n",
      "Gaps to simplify in region 53: 100%|████████████| 63/63 [00:01<00:00, 46.91it/s]\n",
      "Gaps to fill in region 53: 100%|████████████████| 19/19 [00:00<00:00, 39.18it/s]\n",
      "Gaps to simplify in region 54: 100%|████████████| 32/32 [00:07<00:00,  4.31it/s]\n",
      "Gaps to fill in region 54: 100%|████████████████| 41/41 [00:00<00:00, 69.80it/s]\n",
      "Gaps to simplify in region 55: 100%|████████████| 78/78 [00:05<00:00, 14.52it/s]\n",
      "Gaps to fill in region 55: 100%|████████████████| 29/29 [00:00<00:00, 34.52it/s]\n",
      "Gaps to simplify in region 56: 100%|████████████| 83/83 [00:01<00:00, 61.29it/s]\n",
      "Gaps to fill in region 56: 100%|████████████████| 20/20 [00:00<00:00, 28.84it/s]\n"
     ]
    },
    {
     "name": "stdout",
     "output_type": "stream",
     "text": [
      "1 gaps in region 57 will remain unfilled, because they either are not simply connected or exceed the area threshold.\n"
     ]
    },
    {
     "name": "stderr",
     "output_type": "stream",
     "text": [
      "Gaps to simplify in region 57: 100%|████████████| 24/24 [00:00<00:00, 31.45it/s]\n",
      "Gaps to fill in region 57: 100%|██████████████████| 6/6 [00:00<00:00, 10.80it/s]\n"
     ]
    },
    {
     "name": "stdout",
     "output_type": "stream",
     "text": [
      "1 gaps in region 58 will remain unfilled, because they either are not simply connected or exceed the area threshold.\n"
     ]
    },
    {
     "name": "stderr",
     "output_type": "stream",
     "text": [
      "Gaps to simplify in region 58: 100%|████████████| 41/41 [00:00<00:00, 42.99it/s]\n",
      "Gaps to fill in region 58: 100%|████████████████| 13/13 [00:00<00:00, 35.90it/s]\n",
      "Gaps to simplify in region 59: 64it [00:01, 40.65it/s]                          \n",
      "Gaps to fill in region 59: 100%|████████████████| 31/31 [00:00<00:00, 36.72it/s]\n"
     ]
    },
    {
     "name": "stdout",
     "output_type": "stream",
     "text": [
      "1 gaps in region 60 will remain unfilled, because they either are not simply connected or exceed the area threshold.\n"
     ]
    },
    {
     "name": "stderr",
     "output_type": "stream",
     "text": [
      "Gaps to simplify in region 60: 100%|███████████| 50/50 [00:00<00:00, 159.72it/s]\n",
      "Gaps to fill in region 60: 100%|██████████████████| 1/1 [00:00<00:00, 57.27it/s]\n",
      "Gaps to simplify in region 61: 100%|████████████| 44/44 [00:00<00:00, 97.87it/s]\n",
      "Gaps to fill in region 61: 100%|██████████████████| 7/7 [00:00<00:00, 43.75it/s]\n"
     ]
    },
    {
     "name": "stdout",
     "output_type": "stream",
     "text": [
      "1 gaps in region 62 will remain unfilled, because they either are not simply connected or exceed the area threshold.\n"
     ]
    },
    {
     "name": "stderr",
     "output_type": "stream",
     "text": [
      "Gaps to simplify in region 62: 100%|████████████| 60/60 [00:01<00:00, 54.24it/s]\n",
      "Gaps to fill in region 62: 100%|████████████████| 24/24 [00:00<00:00, 44.06it/s]\n"
     ]
    },
    {
     "name": "stdout",
     "output_type": "stream",
     "text": [
      "2 gaps in region 63 will remain unfilled, because they either are not simply connected or exceed the area threshold.\n"
     ]
    },
    {
     "name": "stderr",
     "output_type": "stream",
     "text": [
      "Gaps to simplify in region 63: 100%|███████████| 11/11 [00:00<00:00, 142.51it/s]\n",
      "Gaps to fill: 0it [00:00, ?it/s]\n",
      "Gaps to simplify in region 64: 100%|████████████| 61/61 [00:00<00:00, 97.86it/s]\n",
      "Gaps to fill in region 64: 100%|████████████████| 11/11 [00:00<00:00, 66.33it/s]\n",
      "Gaps to simplify in region 65: 66it [00:08,  7.83it/s]                          \n",
      "Gaps to fill in region 65: 100%|████████████████| 59/59 [00:01<00:00, 50.20it/s]\n",
      "Gaps to simplify in region 66: 100%|████████████| 74/74 [00:03<00:00, 24.15it/s]\n",
      "Gaps to fill in region 66: 100%|████████████████| 51/51 [00:00<00:00, 95.57it/s]\n",
      "Gaps to simplify in region 67: 60it [00:00, 110.15it/s]                         \n",
      "Gaps to fill in region 67: 100%|████████████████| 14/14 [00:00<00:00, 42.87it/s]\n"
     ]
    },
    {
     "name": "stdout",
     "output_type": "stream",
     "text": [
      "1 gaps in region 68 will remain unfilled, because they either are not simply connected or exceed the area threshold.\n"
     ]
    },
    {
     "name": "stderr",
     "output_type": "stream",
     "text": [
      "Gaps to simplify in region 68: 100%|███████████| 93/93 [00:00<00:00, 105.75it/s]\n",
      "Gaps to fill in region 68: 100%|████████████████| 15/15 [00:00<00:00, 66.99it/s]\n",
      "Gaps to simplify in region 69: 100%|██████████| 114/114 [00:01<00:00, 65.38it/s]\n",
      "Gaps to fill in region 69: 100%|████████████████| 15/15 [00:00<00:00, 81.06it/s]\n",
      "Gaps to simplify in region 70: 100%|████████████| 51/51 [00:07<00:00,  7.19it/s]\n",
      "Gaps to fill in region 70: 100%|███████████████| 40/40 [00:00<00:00, 107.82it/s]\n",
      "Gaps to simplify in region 71: 154it [00:02, 58.29it/s]                         \n",
      "Gaps to fill in region 71: 100%|████████████████| 25/25 [00:00<00:00, 63.11it/s]\n"
     ]
    },
    {
     "name": "stdout",
     "output_type": "stream",
     "text": [
      "WARNING: A component of the geometry at index 1804 may have been disconnected!\n",
      "WARNING: A component of the geometry at index 2254 may have been disconnected!\n",
      "WARNING: A component of the geometry at index 5119 may have been disconnected!\n",
      "WARNING: A component of the geometry at index 6018 may have been disconnected!\n",
      "WARNING: A component of the geometry at index 6152 may have been disconnected!\n"
     ]
    }
   ],
   "source": [
    "vest_base = add_vest_base(vest_base_data, start_col, year, county = county_df)"
   ]
  },
  {
   "cell_type": "code",
   "execution_count": 29,
   "metadata": {},
   "outputs": [
    {
     "name": "stdout",
     "output_type": "stream",
     "text": [
      "[0.0, 0.0, 0.0, 0.0, 0.0, 0.0, 0.0, 0.0, 0.0, 0.0, 0.0, 0.0, 0.0, 0.0, 0.0, 0.0, 0.0, 0.0, 0.0, 0.0, 0.0, 0.0, 0.0, 0.0, 0.0, 0.0, 0.0, 0.0, 0.0, 0.0, 0.0, 0.0, 0.0, 0.0, 0.0, 0.0, 0.0, 0.0, 0.0, 0.0, 0.0, 0.0, 0.0, 0.0, 0.0, 0.0, 0.0, 0.0, 0.0, 0.0, 0.0, 0.0, 0.0, 0.0, 0.0, 0.0, 0.0, 0.0, 0.0, 0.0, 0.0, 0.0, 0.0, 0.0, 0.0, 0.0, 0.0, 0.0, 0.0, 0.0, 0.0, 0.0, 0.0, 0.0, 0.0, 0.0, 0.0, 0.0, 0.0, 0.0, 0.0, 0.0, 0.0, 0.0, 0.0, 0.0, 0.0, 0.0, 0.0, 0.0, 0.0, 0.0, 0.0, 0.0, 0.0, 0.0, 0.0, 0.0, 0.0, 0.0, 0.0, 0.0, 0.0, 0.0, 0.0, 0.0, 0.0, 0.0, 0.0, 0.0, 0.0, 0.0, 0.0, 0.0, 0.0, 0.0, 0.0, 0.0, 0.0, 0.0, 0.0, 0.0, 0.0, 0.0, 0.0, 0.0, 0.0, 0.0, 0.0, 0.0, 0.0, 0.0, 0.0, 0.0, 0.0, 0.0, 0.0, 0.0, 0.0, 0.0, 0.0, 0.0, 0.0, 0.0, 0.0, 0.0, 0.0, 0.0, 0.0, 0.0, 0.0, 0.0, 0.0, 0.0, 0.0, 0.0, 0.0, 0.0, 0.0, 0.0, 0.0, 0.0, 0.0, 0.0, 0.0, 0.0, 0.0, 0.0, 0.0, 0.0, 0.0, 0.0, 0.0, 0.0, 0.0, 0.0, 0.0, 0.0, 0.0, 0.0, 0.0, 0.0, 0.0, 0.0, 0.0, 0.0, 0.0, 0.0, 0.0, 0.0, 0.0, 0.0, 0.0, 0.0, 0.0, 0.0, 0.0, 0.0, 0.0, 0.0, 0.0, 0.0, 0.0, 0.0, 0.0, 0.0, 0.0, 0.0, 0.0, 0.0, 0.0, 0.0, 0.0, 0.0, 0.0, 0.0, 0.0, 0.0, 0.0, 0.0, 0.0, 0.0, 0.0, 0.0, 0.0, 0.0, 0.0, 0.0, 0.0, 0.0, 0.0, 0.0, 0.0, 0.0, 0.0, 0.0, 0.0, 0.0, 0.0, 0.0, 0.0, 0.0, 0.0, 0.0, 0.0, 0.0, 0.0, 0.0, 0.0, 0.0, 0.0, 0.0, 0.0, 0.0, 0.0, 0.0, 0.0, 0.0, 0.0, 0.0, 0.0, 0.0, 0.0, 0.0, 0.0, 0.0, 0.0, 0.0, 0.0, 0.0, 0.0, 0.0, 0.0, 0.0, 0.0, 0.0, 0.0, 0.0, 0.0, 0.0, 0.0, 0.0, 0.0, 0.0, 0.0, 0.0, 0.0, 0.0, 0.0, 0.0, 0.0, 0.0, 0.0, 0.0, 0.0, 0.0, 0.0, 0.0, 0.0, 0.0, 0.0, 0.0, 0.0, 0.0, 0.0, 0.0, 0.0, 0.0, 0.0, 0.0, 0.0, 0.0, 0.0, 0.0, 0.0, 0.0, 0.0, 0.0, 0.0, 0.0, 0.0, 0.0, 0.0, 0.0, 0.0, 0.0, 0.0, 0.0, 0.0, 0.0, 0.0, 0.0, 0.0, 0.0, 0.0, 0.0, 0.0, 0.0, 0.0, 0.0, 0.0, 0.0, 0.0, 0.0, 0.0, 0.0, 0.0, 0.0, 0.0, 0.0, 0.0, 0.0, 0.0, 0.0, 0.0, 0.0, 0.0, 0.0, 0.0, 0.0, 0.0, 0.0, 0.0, 0.0, 0.0, 0.0, 0.0, 0.0, 0.0, 0.0, 0.0, 0.0, 0.0, 0.0, 0.0, 0.0, 0.0, 0.0, 0.0, 0.0, 0.0, 0.0, 0.0, 0.0, 0.0, 0.0, 0.0, 0.0, 0.0, 0.0, 0.0, 0.0, 0.0, 0.0, 0.0, 0.0, 0.0, 0.0, 0.0, 0.0, 0.0, 0.0, 0.0, 0.0, 0.0, 0.0, 0.0, 0.0, 0.0, 0.0, 0.0, 0.0, 0.0, 0.0, 0.0, 0.0, 0.0, 0.0, 0.0, 0.0, 0.0, 0.0, 0.0, 0.0, 0.0, 0.0, 0.0, 0.0, 0.0, 0.0, 0.0, 0.0, 0.0, 0.0, 0.0, 0.0, 0.0, 0.0, 0.0, 0.0, 0.0, 0.0, 0.0, 0.0, 0.0, 0.0, 6.59793593290325e-08, 6.59793593290325e-08, 0.003000000026077032, 0.003000000026077032, 0.004136302605818726, 0.004136302605818726, 0.00739493067045464, 0.00739493067045464, 0.008161844182593548, 0.008161844182593548, 0.008502352625791338, 0.008502352625791338, 0.00947216940983453, 0.00947216940983453, 0.011510351904567858, 0.011510351904567858, 0.012106927813163975, 0.012106927813163975, 0.02766311986088248, 0.02766311986088248, 0.030036279648915372, 0.030036279648915372, 0.03457661845095528, 0.03457661845095528, 0.034769039401561674, 0.034769039401561674, 0.03662646183508413, 0.03662646183508413, 0.0377695444394413, 0.0377695444394413, 0.04288149338163733, 0.04288149338163733, 0.04510953894014285, 0.04510953894014285, 0.05295359840433233, 0.05295359840433233, 0.0637288858170676, 0.0637288858170676, 0.06642040168676612, 0.06642040168676612, 0.0700714563947339, 0.0700714563947339, 0.07181889475053471, 0.07181889475053471, 0.08077017297830066, 0.08077017297830066, 0.08120399340958662, 0.08120399340958662, 0.08199141390963299, 0.08199141390963299, 0.09097048147525641, 0.09097048147525641, 0.09225835462654224, 0.09225835462654224, 0.09457556944051565, 0.09457556944051565, 0.10342144965825922, 0.10342144965825922, 0.10768769747928149, 0.10768769747928149, 0.10869877093595982, 0.10869877093595982, 0.12016182140142963, 0.12016182140142963, 0.12364994201069167, 0.12364994201069167, 0.12581707028715294, 0.12581707028715294, 0.1337236142072923, 0.1337236142072923, 0.13396865303829752, 0.13396865303829752, 0.13574189927338381, 0.13574189927338381, 0.1522640193298604, 0.1522640193298604, 0.16201734049045996, 0.16201734049045996, 0.16742942483710166, 0.16742942483710166, 0.18977159454396994, 0.18977159454396994, 0.18981531115718828, 0.18981531115718828, 0.20268165859047688, 0.20268165859047688, 0.21028680542911415, 0.21028680542911415, 0.2119252979540493, 0.2119252979540493, 0.21242315962383346, 0.21242315962383346, 0.23869872793949987, 0.23869872793949987, 0.2422800051651509, 0.2422800051651509, 0.2670175263715475, 0.2670175263715475, 0.27287210861524247, 0.27287210861524247, 0.29546908603257427, 0.29546908603257427, 0.2960348712952649, 0.2960348712952649, 0.31402373856016075, 0.31402373856016075, 0.31750711077988225, 0.31750711077988225, 0.3243025315509624, 0.3243025315509624, 0.3245464496086102, 0.3245464496086102, 0.32807461224498313, 0.32807461224498313, 0.3306320124764385, 0.3306320124764385, 0.33457252981325963, 0.33457252981325963, 0.3786008361686406, 0.3786008361686406, 0.3847368127705285, 0.3847368127705285, 0.3933725700432663, 0.3933725700432663, 0.4054312487737639, 0.4054312487737639, 0.4110534127728057, 0.4110534127728057, 0.41159462338902375, 0.41159462338902375, 0.4146320013368385, 0.4146320013368385, 0.4321224040261823, 0.4321224040261823, 0.43791453295742977, 0.43791453295742977, 0.4408208438265819, 0.4408208438265819, 0.4412178390242778, 0.4412178390242778, 0.44479948565820393, 0.44479948565820393, 0.44488818797783825, 0.44488818797783825, 0.44870655589017727, 0.44870655589017727, 0.4594287971645515, 0.4594287971645515, 0.46544524570921336, 0.46544524570921336, 0.4693322501308471, 0.4693322501308471, 0.4702206400816226, 0.4702206400816226, 0.4815104932891535, 0.4815104932891535, 0.4849931207121897, 0.4849931207121897, 0.487382403587322, 0.487382403587322, 0.4915089403828816, 0.4915089403828816, 0.49448030523750897, 0.49448030523750897, 0.4998047272448899, 0.4998047272448899, 0.5424397068659054, 0.5424397068659054, 0.5728682128118247, 0.5728682128118247, 0.575644284115594, 0.575644284115594, 0.5821380052027071, 0.5821380052027071, 0.5864367543117283, 0.5864367543117283, 0.5951927674726638, 0.5951927674726638, 0.6565793132521867, 0.6565793132521867, 0.6609323881767831, 0.6609323881767831, 0.6622084737313877, 0.6622084737313877, 0.6633510230133212, 0.6633510230133212, 0.6634712203884257, 0.6634712203884257, 0.6659978113897147, 0.6659978113897147, 0.6790752282852645, 0.6790752282852645, 0.6797999141388726, 0.6797999141388726, 0.6864103772332281, 0.6864103772332281, 0.6864761179226444, 0.6864761179226444, 0.6927754765772055, 0.6927754765772055, 0.6941639815678068, 0.6941639815678068, 0.7004027819766098, 0.7004027819766098, 0.7086612231787344, 0.7086612231787344, 0.7087846950338643, 0.7087846950338643, 0.7161108381517681, 0.7161108381517681, 0.7234458335906817, 0.7234458335906817, 0.7597141970755343, 0.7597141970755343, 0.7609655711749528, 0.7609655711749528, 0.7809278431192813, 0.7809278431192813, 0.8067983561077762, 0.8067983561077762, 0.8125356734392407, 0.8125356734392407, 0.813128839974782, 0.813128839974782, 0.8132042801170648, 0.8132042801170648, 0.8313464201074185, 0.8313464201074185, 0.8546761736542394, 0.8546761736542394, 0.8642479047199155, 0.8642479047199155, 0.8798066462928287, 0.8798066462928287, 0.8811871672672092, 0.8811871672672092, 0.8831076108451921, 0.8831076108451921, 0.8900705243635157, 0.8900705243635157, 0.8901559155856482, 0.8901559155856482, 0.8978463411937783, 0.8978463411937783, 0.9029037027758833, 0.9029037027758833, 0.908133230599628, 0.908133230599628, 0.9143903943221817, 0.9143903943221817, 0.9220581496723765, 0.9220581496723765, 0.9317825710346004, 0.9317825710346004, 0.9509682184396852, 0.9509682184396852, 0.986922371365787, 0.986922371365787, 1.0029798573288402, 1.0029798573288402, 1.0230890142632452, 1.0230890142632452, 1.039985944341675, 1.039985944341675, 1.041121232216952, 1.041121232216952, 1.0559619383159733, 1.0559619383159733, 1.0588731063326502, 1.0588731063326502, 1.083841451299593, 1.083841451299593, 1.0911373267748894, 1.0911373267748894, 1.0932261385556277, 1.0932261385556277, 1.1127980100221735, 1.1127980100221735, 1.1280257224649848, 1.1280257224649848, 1.1355462913685135, 1.1355462913685135, 1.1752409392139094, 1.1752409392139094, 1.1765489170128818, 1.1765489170128818, 1.1793655496110362, 1.1793655496110362, 1.1904134951427787, 1.1904134951427787, 1.211309867575587, 1.211309867575587, 1.211689674094239, 1.211689674094239, 1.2400717131860342, 1.2400717131860342, 1.246739878041528, 1.246739878041528, 1.2540011822200419, 1.2540011822200419, 1.2734818715991716, 1.2734818715991716, 1.3236588654487171, 1.3236588654487171, 1.4002875904824212, 1.4002875904824212, 1.4052216257440362, 1.4052216257440362, 1.4118547680345404, 1.4118547680345404, 1.4454397860514263, 1.4454397860514263, 1.445764622381905, 1.445764622381905, 1.4911172070056182, 1.4911172070056182, 1.5050657595305563, 1.5050657595305563, 1.515299888815403, 1.515299888815403, 1.521377636079477, 1.521377636079477, 1.5446892492192268, 1.5446892492192268, 1.5486449084836358, 1.5486449084836358, 1.5542564241326524, 1.5542564241326524, 1.5627130273486447, 1.5627130273486447, 1.612160873655533, 1.612160873655533, 1.6246050552847544, 1.6246050552847544, 1.6444781183697714, 1.6444781183697714, 1.6550513925582286, 1.6550513925582286, 1.6563445948818956, 1.6563445948818956, 1.6625655529225412, 1.6625655529225412, 1.6691368800509119, 1.6691368800509119, 1.6857513535247706, 1.6857513535247706, 1.6930116928423065, 1.6930116928423065, 1.6946687140091983, 1.6946687140091983, 1.7191348272561953, 1.7191348272561953, 1.7308083454121972, 1.7308083454121972, 1.7464544769094454, 1.7464544769094454, 1.7541865705063135, 1.7541865705063135, 1.7638961465477174, 1.7638961465477174, 1.7645076895420102, 1.7645076895420102, 1.76485151703541, 1.76485151703541, 1.7654319353980326, 1.7654319353980326, 1.785906704050951, 1.785906704050951, 1.7885102154850745, 1.7885102154850745, 1.8189413318572356, 1.8189413318572356, 1.846525006671653, 1.846525006671653, 1.8987038267108731, 1.8987038267108731, 1.918281104671751, 1.918281104671751, 1.9209213106771106, 1.9209213106771106, 1.9807136928362068, 1.9807136928362068, 1.9938925203875353, 1.9938925203875353, 2.0504398304815656, 2.0504398304815656, 2.0582120602752823, 2.0582120602752823, 2.0807267717989806, 2.0807267717989806, 2.0967708507621063, 2.0967708507621063, 2.1097285373872885, 2.1097285373872885, 2.134320031326338, 2.134320031326338, 2.135050710776384, 2.135050710776384, 2.1353140332642395, 2.1353140332642395, 2.1357490362956293, 2.1357490362956293, 2.159335336659061, 2.159335336659061, 2.179588727503331, 2.179588727503331, 2.329346668146509, 2.329346668146509, 2.3347294653735458, 2.3347294653735458, 2.3843399726383216, 2.3843399726383216, 2.450220852086393, 2.450220852086393, 2.4543709582419773, 2.4543709582419773, 2.5302433791164796, 2.5302433791164796, 2.542850000518674, 2.542850000518674, 2.5596784394702783, 2.5596784394702783, 2.6320459736858766, 2.6320459736858766, 2.662262135592736, 2.662262135592736, 2.6999814515886102, 2.6999814515886102, 2.7155845788514674, 2.7155845788514674, 2.7183570923370692, 2.7183570923370692, 2.756096773952776, 2.756096773952776, 2.7909295905970075, 2.7909295905970075, 2.8581888125524086, 2.8581888125524086, 2.8706915099893067, 2.8706915099893067, 2.9236112591634913, 2.9236112591634913, 2.9330947736018445, 2.9330947736018445, 2.991908150783592, 2.991908150783592, 3.00157270470132, 3.00157270470132, 3.0095730294443173, 3.0095730294443173, 3.05683111177369, 3.05683111177369, 3.0668267437267787, 3.0668267437267787, 3.1096020132314743, 3.1096020132314743, 3.132590367715752, 3.132590367715752, 3.1608121110470897, 3.1608121110470897, 3.2272529055744563, 3.2272529055744563, 3.400800734598274, 3.400800734598274, 3.4331911715409444, 3.4331911715409444, 3.5549238815213515, 3.5549238815213515, 3.709139180089721, 3.709139180089721, 3.810220361124214, 3.810220361124214, 3.909419992063724, 3.909419992063724, 3.9722795767832477, 3.9722795767832477, 3.9864230566428, 3.9864230566428, 4.076050739264126, 4.076050739264126, 4.199500638241326, 4.199500638241326, 4.240226061357563, 4.240226061357563, 4.245919761293857, 4.245919761293857, 4.336017240698275, 4.336017240698275, 4.338677633263048, 4.338677633263048, 4.3416647701115885, 4.3416647701115885, 4.342660846054362, 4.342660846054362, 4.477436834747073, 4.477436834747073, 4.486094352194263, 4.486094352194263, 4.508832811307652, 4.508832811307652, 4.5698872550338745, 4.5698872550338745, 4.635181947888335, 4.635181947888335, 4.701472781141711, 4.701472781141711, 4.793008066028257, 4.793008066028257, 4.861717263891932, 4.861717263891932, 4.896757528600851, 4.896757528600851, 4.9259152357798035, 4.9259152357798035, 5.0082739821224935, 5.0082739821224935, 5.17279295230524, 5.17279295230524, 5.197788610531835, 5.197788610531835, 5.228719560954428, 5.228719560954428, 5.253762570994118, 5.253762570994118, 5.262923802925822, 5.262923802925822, 5.265865446318714, 5.265865446318714, 5.316559979130609, 5.31655997913061, 5.352499864930466, 5.352499864930466, 5.364250795332462, 5.364250795332462, 5.368532814619746, 5.368532814619746, 5.437129378649174, 5.437129378649174, 5.464391603038502, 5.464391603038502, 5.537107983749785, 5.537107983749785, 5.609240273410777, 5.609240273410777, 5.634783170042752, 5.634783170042752, 5.73468262904358, 5.73468262904358, 5.814617795966269, 5.814617795966269, 5.835288952678315, 5.835288952678315, 5.887609315239337, 5.887609315239337, 5.924063509562447, 5.924063509562447, 5.938212565207333, 5.938212565207333, 6.002230769329837, 6.002230769329837, 6.09398952571937, 6.09398952571937, 6.094077937797478, 6.094077937797478, 6.112391982086189, 6.11239198208619, 6.133797783982375, 6.133797783982375, 6.21723791485313, 6.21723791485313, 6.257201541305532, 6.257201541305532, 6.261517047377854, 6.261517047377854, 6.47029021030311, 6.47029021030311, 6.4910656447205515, 6.4910656447205515, 6.508305448110123, 6.508305448110123, 6.702184406499301, 6.702184406499301, 6.78225031769159, 6.78225031769159, 6.83824817981978, 6.83824817981978, 6.975661023334619, 6.975661023334619, 7.022035956109871, 7.022035956109871, 7.084749555487162, 7.084749555487162, 7.122319221261068, 7.122319221261068, 7.1511968074143155, 7.1511968074143155, 7.181112220484291, 7.181112220484291, 7.365245392653769, 7.365245392653769, 7.420727393048396, 7.420727393048396, 7.529687284861794, 7.529687284861794, 7.681619703926691, 7.681619703926691, 7.783501906748099, 7.783501906748099, 7.996471096676938, 7.996471096676938, 8.125779636264886, 8.125779636264886, 8.219505136610168, 8.219505136610168, 8.227483253246733, 8.227483253246733, 8.308165812278569, 8.308165812278569, 8.406352058898657, 8.406352058898657, 8.409509252425636, 8.409509252425636, 8.524891030912247, 8.524891030912247, 8.623618800127158, 8.623618800127158, 8.652956203698581, 8.652956203698581, 8.822573557715641, 8.822573557715641, 8.825507872789276, 8.825507872789276, 8.860128701728385, 8.860128701728385, 8.91309952617912, 8.91309952617912, 9.034499074729023, 9.034499074729023, 9.088895177356017, 9.088895177356017, 9.160040424916644, 9.160040424916644, 9.385005680295135, 9.385005680295135, 9.447755345311549, 9.447755345311549, 9.514732061181986, 9.514732061181986, 9.516120660957224, 9.516120660957224, 9.645648289100532, 9.645648289100532, 9.669821380680345, 9.669821380680345, 9.676074600032752, 9.676074600032752, 9.751783579161264, 9.751783579161264, 9.755922083205, 9.755922083205, 9.882623287738822, 9.882623287738822, 9.909886349508195, 9.909886349508195, 9.91665327423293, 9.91665327423293, 9.979198019757453, 9.979198019757453, 10.013424464696655, 10.013424464696655, 10.050739646180485, 10.050739646180485, 10.051323098825995, 10.051323098825995, 10.054784317508112, 10.054784317508112, 10.055508598422627, 10.055508598422627, 10.056436710040083, 10.056436710040083, 10.061724492781384, 10.061724492781384, 10.063556351612345, 10.063556351612345, 10.070944666420285, 10.070944666420285, 10.072397817118597, 10.072397817118597, 10.102079362776138, 10.102079362776138, 10.11151531080357, 10.11151531080357, 10.121935709346515, 10.121935709346515, 10.15797874726671, 10.15797874726671, 10.203280565925903, 10.203280565925903, 10.27966941240569, 10.27966941240569, 10.29530166080557, 10.29530166080557, 10.307505483343641, 10.307505483343641, 10.375067517156925, 10.375067517156925, 10.379227510474575, 10.379227510474575, 10.387028754201735, 10.387028754201735, 10.431543113767631, 10.431543113767631, 10.54679894063185, 10.54679894063185, 10.565499154674102, 10.565499154674102, 10.68194291572547, 10.68194291572547, 10.696456850693362, 10.696456850693362, 10.738766092587893, 10.738766092587893, 10.803590634611597, 10.803590634611597, 10.869776373676046, 10.869776373676046, 10.98502889955803, 10.98502889955803, 11.044623643562003, 11.044623643562003, 11.097303398248908, 11.097303398248908, 11.161264756137943, 11.161264756137943, 11.16710658706261, 11.16710658706261, 11.397187644541267, 11.397187644541267, 11.436087376050384, 11.436087376050384, 11.510866208849944, 11.510866208849944, 11.570287052704588, 11.570287052704588, 11.643643011953142, 11.643643011953142, 11.702473322773326, 11.702473322773326, 11.727890926835045, 11.727890926835045, 12.120804059804609, 12.120804059804609, 12.182721255683786, 12.182721255683786, 12.215319255192338, 12.215319255192338, 12.384184486906479, 12.384184486906479, 12.400224947595456, 12.400224947595456, 12.539067871858864, 12.539067871858864, 12.668641592506907, 12.668641592506907, 12.689836090008448, 12.689836090008448, 12.819440117100246, 12.819440117100248, 12.831720940961587, 12.831720940961587, 12.831935263585212, 12.831935263585212, 12.992106784675293, 12.992106784675293, 13.094180980872327, 13.094180980872327, 13.118740513105632, 13.118740513105632, 13.200290820616003, 13.200290820616003, 13.210065122938591, 13.210065122938591, 13.319927930873728, 13.319927930873728, 13.334753389103012, 13.334753389103012, 13.349921028542761, 13.349921028542761, 13.460632152916784, 13.460632152916784, 13.466696567101932, 13.466696567101932, 13.653663869866758, 13.653663869866758, 13.713151435990472, 13.713151435990472, 13.758121307516193, 13.758121307516193, 13.75996377823116, 13.75996377823116, 13.835205671298016, 13.835205671298016, 13.836601381325398, 13.836601381325398, 13.900434474485102, 13.900434474485102, 13.961375631381726, 13.961375631381726, 14.106983076749543, 14.106983076749543, 14.226715597627859, 14.226715597627859, 14.265459029895398, 14.265459029895398, 14.287827103529224, 14.287827103529224, 14.676325208808723, 14.676325208808723, 14.68108646726486, 14.68108646726486, 14.733751283050726, 14.733751283050726, 15.041153119000528, 15.041153119000528, 15.237142366684397, 15.237142366684397, 15.237187469303862, 15.237187469303862, 15.238595664281272, 15.238595664281272, 15.481106122620417, 15.481106122620417, 15.525016803139836, 15.525016803139838, 15.641562592298172, 15.641562592298172, 15.67315075521122, 15.67315075521122, 15.779079151894477, 15.779079151894477, 15.979210431437634, 15.979210431437634, 15.997103539821465, 15.997103539821465, 16.07862164674665, 16.07862164674665, 16.22545796660011, 16.22545796660011, 16.34962475744026, 16.34962475744026, 16.38704623680596, 16.38704623680596, 16.45923322852743, 16.45923322852743, 16.520674881974514, 16.520674881974514, 16.760274754277155, 16.760274754277155, 16.790686213650332, 16.790686213650332, 17.25438587192449, 17.25438587192449, 17.328684632927853, 17.328684632927853, 17.558322904226262, 17.558322904226266, 17.71886746358255, 17.71886746358255, 17.885608431376525, 17.885608431376525, 17.91291609726686, 17.91291609726686, 17.990682856546773, 17.990682856546773, 17.999672872947535, 17.999672872947535, 18.24467966182623, 18.24467966182623, 18.282877559880635, 18.282877559880635, 18.28308970312219, 18.28308970312219, 18.283188475840284, 18.283188475840284, 18.289670681272103, 18.289670681272103, 18.306225435600897, 18.306225435600897, 18.364531105310725, 18.364531105310725, 18.368669346080665, 18.368669346080665, 18.37306560617978, 18.37306560617978, 18.70129308834501, 18.70129308834501, 18.76930211515283, 18.76930211515283, 18.801848850195586, 18.801848850195586, 18.86125565257235, 18.86125565257235, 18.90270280028304, 18.90270280028304, 18.905815742327967, 18.905815742327967, 18.916072809828876, 18.916072809828876, 19.047742612852385, 19.047742612852385, 19.064618570302862, 19.064618570302862, 19.391809562520336, 19.391809562520336, 19.717688977971374, 19.717688977971374, 19.77821855753985, 19.77821855753985, 19.80670804745613, 19.80670804745613, 19.872350863597433, 19.872350863597433, 19.87611026133225, 19.87611026133225, 20.02350376864965, 20.02350376864965, 20.08800446848535, 20.08800446848535, 20.108059696203746, 20.108059696203746, 20.10910477301485, 20.10910477301485, 20.110444549552824, 20.110444549552824, 20.112848644556138, 20.112848644556138, 20.11734236772076, 20.117342367720763, 20.120399054077154, 20.120399054077154, 20.141055842035314, 20.141055842035314, 20.323477623030865, 20.32347762303087, 20.46477594451119, 20.46477594451119, 20.502678717323512, 20.502678717323512, 20.691570499329536, 20.691570499329536, 20.810974704828936, 20.810974704828936, 20.85477028912348, 20.854770289123483, 20.908695706336367, 20.908695706336367, 21.16058014914802, 21.16058014914802, 21.368788509286546, 21.368788509286546, 21.39301801504615, 21.39301801504615, 21.418444878895215, 21.41844487889522, 21.723268418469807, 21.723268418469807, 21.806386655235247, 21.806386655235247, 22.27679803668977, 22.27679803668977, 22.505535488523964, 22.505535488523964, 22.669830049856305, 22.669830049856305, 22.671322600617742, 22.671322600617742, 22.780379496279117, 22.780379496279117, 22.780480538566366, 22.780480538566366, 22.784136300182542, 22.784136300182546, 22.816067290572114, 22.816067290572114, 22.821851822305305, 22.821851822305305, 22.871493339607646, 22.871493339607646, 23.41461870968756, 23.41461870968756, 23.578829227055113, 23.578829227055117, 23.786169697101105, 23.786169697101105, 24.035864247682383, 24.035864247682383, 24.07744730271822, 24.07744730271822, 24.31005355160632, 24.31005355160632, 24.4664697323929, 24.4664697323929, 24.498142190257397, 24.498142190257397, 24.59443562999897, 24.594435629998973, 24.66495787416887, 24.66495787416887, 24.681177331568666, 24.68117733156867, 25.025346646372622, 25.025346646372622, 25.399050381540697, 25.3990503815407, 25.565058713807687, 25.565058713807687, 25.587763603536505, 25.587763603536505, 25.75441635736208, 25.75441635736208, 26.088861074808307, 26.088861074808307, 26.13047076756671, 26.130470767566713, 26.33151864264225, 26.33151864264225, 26.445898986297145, 26.445898986297145, 26.70750788949704, 26.70750788949704, 26.779600136316724, 26.779600136316724, 26.827208653776452, 26.827208653776452, 26.890801418922216, 26.890801418922216, 27.10167314077313, 27.10167314077313, 27.3092923320696, 27.3092923320696, 27.50883725271467, 27.50883725271467, 27.62161429096583, 27.62161429096583, 27.70541153100004, 27.70541153100004, 27.872557514118483, 27.872557514118483, 27.930911935111883, 27.930911935111883, 28.205825330187782, 28.205825330187782, 28.25139011768362, 28.25139011768362, 28.582336820120606, 28.582336820120606, 28.622364270766205, 28.622364270766205, 28.81349969056818, 28.81349969056818, 28.99666006672772, 28.99666006672772, 29.053554582868333, 29.053554582868337, 29.241961708982434, 29.241961708982434, 29.360511820001744, 29.360511820001744, 29.391084937619624, 29.391084937619624, 29.81531088878416, 29.81531088878416, 30.104804445542328, 30.104804445542328, 30.16073444369549, 30.16073444369549, 30.240569430193755, 30.240569430193755, 30.290385506797588, 30.290385506797588, 30.436434423842496, 30.436434423842496, 30.455728448337556, 30.455728448337556, 30.468261422393947, 30.468261422393947, 30.468479082189383, 30.468479082189383, 30.469000273795146, 30.469000273795146, 30.469301136833934, 30.469301136833938, 30.48744067026169, 30.48744067026169, 30.51523357711089, 30.51523357711089, 30.52642960753767, 30.52642960753767, 30.582864773157404, 30.582864773157404, 30.64013238137722, 30.64013238137722, 30.65551247609423, 30.655512476094234, 30.88333816620407, 30.88333816620407, 30.948653392989904, 30.948653392989907, 31.113293134635953, 31.113293134635953, 31.128096888316982, 31.128096888316982, 31.14715595937585, 31.14715595937585, 31.23784851765081, 31.23784851765081, 31.37621989405996, 31.376219894059965, 31.8333486683878, 31.8333486683878, 31.995988123956693, 31.995988123956693, 32.079325309427155, 32.079325309427155, 32.61229863752649, 32.61229863752649, 32.641668398671705, 32.641668398671705, 32.67563838644215, 32.67563838644215, 32.69560944517943, 32.69560944517943, 32.94401069915515, 32.94401069915515, 33.290808176977166, 33.290808176977166, 33.51689359543132, 33.51689359543132, 33.518629489656945, 33.518629489656945, 33.52358416128992, 33.52358416128992, 33.55488224544868, 33.55488224544868, 33.55706220184665, 33.55706220184665, 33.57732909425289, 33.57732909425289, 33.93519405060842, 33.93519405060842, 34.34086537304268, 34.34086537304268, 34.47332217869638, 34.47332217869638, 34.683085230691084, 34.683085230691084, 35.19237663033776, 35.19237663033776, 35.1959036077805, 35.1959036077805, 35.65947320724265, 35.65947320724265, 36.141704246041996, 36.141704246041996, 36.15174395153675, 36.15174395153675, 36.225977103059904, 36.225977103059904, 36.22972929275505, 36.22972929275505, 36.565487473055626, 36.565487473055626, 36.61595865058666, 36.61595865058666, 36.618253796492425, 36.618253796492425, 36.74346041268698, 36.74346041268698, 36.87059732480859, 36.87059732480859, 36.955382189798996, 36.955382189798996, 36.98298910550052, 36.98298910550052, 37.18641007711074, 37.18641007711074, 37.68477239640727, 37.684772396407276, 37.72075036319511, 37.72075036319511, 37.73162693229691, 37.73162693229691, 37.81948676287148, 37.81948676287148, 37.92308889707519, 37.92308889707519, 38.08558407146081, 38.08558407146081, 38.08565180632576, 38.08565180632576, 38.09794075305968, 38.09794075305968, 38.16370283612401, 38.16370283612401, 38.34232234099017, 38.34232234099017, 38.45697549379318, 38.45697549379318, 38.76536568229827, 38.76536568229827, 38.938409594953214, 38.938409594953214, 38.95123532604071, 38.95123532604071, 39.52546244814205, 39.52546244814205, 39.610769972257536, 39.610769972257536, 39.61317323066863, 39.61317323066863, 40.18781741285157, 40.18781741285157, 40.226461286262705, 40.226461286262705, 40.25313913039312, 40.25313913039312, 40.42233608609486, 40.42233608609486, 40.78101750380329, 40.78101750380329, 40.91527787630053, 40.915277876300536, 40.96828737475555, 40.96828737475555, 40.99041754589864, 40.99041754589864, 41.13707354679237, 41.13707354679237, 41.29220968404818, 41.29220968404818, 41.38085804709018, 41.38085804709018, 41.55299391526841, 41.55299391526841, 41.57981982206624, 41.57981982206624, 42.30141882001204, 42.30141882001204, 42.34646658926031, 42.34646658926031, 42.37157016008869, 42.37157016008869, 42.598912927544035, 42.598912927544035, 42.69760386132393, 42.69760386132393, 42.878011156276166, 42.878011156276166, 42.92550672495984, 42.92550672495984, 42.936914088696845, 42.936914088696845, 42.994259575741744, 42.994259575741744, 43.17968684328972, 43.17968684328972, 43.57421315736285, 43.57421315736285, 43.58269322439808, 43.582693224398085, 43.8153622689888, 43.8153622689888, 43.846297899197864, 43.846297899197864, 43.964248963307234, 43.964248963307234, 44.053145131483205, 44.053145131483205, 44.1092645370949, 44.1092645370949, 44.120115822081814, 44.120115822081814, 44.15856875233826, 44.15856875233826, 45.19973147131898, 45.19973147131898, 45.313300852454496, 45.313300852454496, 45.513243440875584, 45.513243440875584, 45.69722956045908, 45.69722956045908, 45.70740618508487, 45.70740618508487, 45.778101974346306, 45.778101974346306, 45.80834652653042, 45.80834652653042, 45.96026113266088, 45.96026113266088, 46.014348966662496, 46.014348966662496, 46.04811510207392, 46.04811510207392, 46.167830544674636, 46.16783054467464, 46.621639122608784, 46.621639122608784, 46.62192589321466, 46.62192589321466, 46.710666782657256, 46.710666782657256, 47.10458520684222, 47.10458520684223, 47.39314955171115, 47.39314955171115, 47.506466760702345, 47.506466760702345, 47.60192779677781, 47.60192779677781, 47.62243402038526, 47.62243402038526, 47.65926980174685, 47.65926980174685, 47.83223936020319, 47.83223936020319, 47.89496627186545, 47.89496627186545, 48.15204036637186, 48.15204036637186, 48.40549981092323, 48.40549981092323, 48.42770308188949, 48.42770308188949, 48.47182827802869, 48.47182827802869, 48.7640858224443, 48.7640858224443, 49.07711116732044, 49.07711116732044, 49.142164623036514, 49.142164623036514, 49.22734620682917, 49.22734620682917, 49.47766483107281, 49.47766483107281, 49.72733743812971, 49.72733743812971, 49.88289827300154, 49.88289827300154, 50.14726462841736, 50.14726462841737, 50.27815461159267, 50.27815461159267]\n"
     ]
    }
   ],
   "source": [
    "borders = check_small_boundary_lengths(vest_base)\n",
    "print(borders[3500:5300])"
   ]
  },
  {
   "cell_type": "code",
   "execution_count": 30,
   "metadata": {},
   "outputs": [
    {
     "name": "stdout",
     "output_type": "stream",
     "text": [
      "Snapping all geometries to a grid with precision 10^( -3 ) to avoid GEOS errors.\n",
      "Identifying overlaps...\n"
     ]
    },
    {
     "name": "stderr",
     "output_type": "stream",
     "text": [
      "100%|█████████████████████████████████████| 8539/8539 [00:02<00:00, 4091.78it/s]\n"
     ]
    },
    {
     "name": "stdout",
     "output_type": "stream",
     "text": [
      "Resolving overlaps...\n",
      "1 gaps will remain unfilled, because they either are not simply connected or exceed the area threshold.\n",
      "Filling gaps...\n"
     ]
    },
    {
     "name": "stderr",
     "output_type": "stream",
     "text": [
      "Gaps to simplify: 100%|███████████████████████████| 1/1 [00:00<00:00,  1.01it/s]\n",
      "Gaps to fill: 100%|███████████████████████████████| 1/1 [00:02<00:00,  2.01s/it]\n"
     ]
    },
    {
     "name": "stdout",
     "output_type": "stream",
     "text": [
      "Converting small rook adjacencies to queen...\n"
     ]
    },
    {
     "name": "stderr",
     "output_type": "stream",
     "text": [
      "100%|█████████████████████████████████████| 7093/7093 [00:04<00:00, 1599.08it/s]\n",
      "100%|███████████████████████████████████████████| 5/5 [00:00<00:00, 3077.26it/s]\n",
      "100%|███████████████████████████████████████████| 4/4 [00:00<00:00, 2888.14it/s]\n",
      "100%|███████████████████████████████████████████| 4/4 [00:00<00:00, 2527.07it/s]\n",
      "100%|███████████████████████████████████████████| 4/4 [00:00<00:00, 2691.68it/s]\n",
      "100%|███████████████████████████████████████████| 4/4 [00:00<00:00, 2538.16it/s]\n",
      "100%|███████████████████████████████████████████| 4/4 [00:00<00:00, 2795.27it/s]\n",
      "100%|███████████████████████████████████████████| 4/4 [00:00<00:00, 2215.98it/s]\n",
      "100%|███████████████████████████████████████████| 4/4 [00:00<00:00, 2640.00it/s]\n",
      "100%|███████████████████████████████████████████| 4/4 [00:00<00:00, 3000.75it/s]\n",
      "100%|███████████████████████████████████████████| 5/5 [00:00<00:00, 3105.51it/s]\n",
      "100%|███████████████████████████████████████████| 4/4 [00:00<00:00, 2501.45it/s]\n",
      "100%|███████████████████████████████████████████| 4/4 [00:00<00:00, 2640.00it/s]\n",
      "100%|███████████████████████████████████████████| 5/5 [00:00<00:00, 2969.21it/s]\n",
      "100%|███████████████████████████████████████████| 4/4 [00:00<00:00, 2751.27it/s]\n",
      "100%|███████████████████████████████████████████| 6/6 [00:00<00:00, 2946.82it/s]\n",
      "100%|███████████████████████████████████████████| 4/4 [00:00<00:00, 2691.68it/s]\n",
      "100%|███████████████████████████████████████████| 4/4 [00:00<00:00, 2732.00it/s]\n",
      "100%|███████████████████████████████████████████| 4/4 [00:00<00:00, 2367.99it/s]\n",
      "100%|███████████████████████████████████████████| 5/5 [00:00<00:00, 2826.35it/s]\n",
      "100%|███████████████████████████████████████████| 5/5 [00:00<00:00, 3135.22it/s]\n",
      "100%|███████████████████████████████████████████| 5/5 [00:00<00:00, 2978.06it/s]\n",
      "100%|███████████████████████████████████████████| 4/4 [00:00<00:00, 2754.88it/s]\n",
      "100%|███████████████████████████████████████████| 4/4 [00:00<00:00, 2987.40it/s]\n",
      "100%|███████████████████████████████████████████| 4/4 [00:00<00:00, 3086.88it/s]\n",
      "100%|███████████████████████████████████████████| 4/4 [00:00<00:00, 2599.51it/s]\n",
      "100%|███████████████████████████████████████████| 4/4 [00:00<00:00, 2982.62it/s]\n",
      "100%|███████████████████████████████████████████| 4/4 [00:00<00:00, 2833.51it/s]\n",
      "100%|███████████████████████████████████████████| 4/4 [00:00<00:00, 2823.02it/s]\n",
      "100%|███████████████████████████████████████████| 4/4 [00:00<00:00, 2793.41it/s]\n",
      "100%|███████████████████████████████████████████| 4/4 [00:00<00:00, 2592.68it/s]\n",
      "100%|███████████████████████████████████████████| 4/4 [00:00<00:00, 2708.19it/s]\n",
      "100%|███████████████████████████████████████████| 4/4 [00:00<00:00, 2954.26it/s]\n",
      "100%|███████████████████████████████████████████| 4/4 [00:00<00:00, 2754.88it/s]\n",
      "100%|███████████████████████████████████████████| 4/4 [00:00<00:00, 2785.52it/s]\n",
      "100%|███████████████████████████████████████████| 4/4 [00:00<00:00, 2726.23it/s]\n",
      "100%|███████████████████████████████████████████| 4/4 [00:00<00:00, 2730.67it/s]\n",
      "100%|███████████████████████████████████████████| 4/4 [00:00<00:00, 3050.96it/s]\n",
      "100%|███████████████████████████████████████████| 4/4 [00:00<00:00, 2589.08it/s]\n",
      "100%|███████████████████████████████████████████| 5/5 [00:00<00:00, 3311.47it/s]\n",
      "100%|███████████████████████████████████████████| 4/4 [00:00<00:00, 2967.32it/s]\n",
      "100%|███████████████████████████████████████████| 4/4 [00:00<00:00, 2213.65it/s]\n",
      "100%|███████████████████████████████████████████| 4/4 [00:00<00:00, 2560.63it/s]\n",
      "100%|███████████████████████████████████████████| 4/4 [00:00<00:00, 2668.13it/s]\n",
      "100%|███████████████████████████████████████████| 4/4 [00:00<00:00, 2665.17it/s]\n",
      "100%|███████████████████████████████████████████| 4/4 [00:00<00:00, 2889.63it/s]\n",
      "100%|███████████████████████████████████████████| 4/4 [00:00<00:00, 3481.47it/s]\n",
      "100%|███████████████████████████████████████████| 4/4 [00:00<00:00, 2458.56it/s]\n",
      "100%|███████████████████████████████████████████| 4/4 [00:00<00:00, 2672.38it/s]\n",
      "100%|███████████████████████████████████████████| 4/4 [00:00<00:00, 2753.07it/s]\n",
      "100%|███████████████████████████████████████████| 4/4 [00:00<00:00, 3179.31it/s]\n",
      "100%|███████████████████████████████████████████| 5/5 [00:00<00:00, 2678.01it/s]\n",
      "100%|███████████████████████████████████████████| 4/4 [00:00<00:00, 3238.84it/s]\n",
      "100%|███████████████████████████████████████████| 4/4 [00:00<00:00, 3102.30it/s]\n",
      "100%|███████████████████████████████████████████| 4/4 [00:00<00:00, 3005.59it/s]\n",
      "100%|███████████████████████████████████████████| 4/4 [00:00<00:00, 2732.89it/s]\n",
      "100%|███████████████████████████████████████████| 4/4 [00:00<00:00, 2840.71it/s]\n",
      "100%|███████████████████████████████████████████| 4/4 [00:00<00:00, 2806.96it/s]\n",
      "100%|███████████████████████████████████████████| 4/4 [00:00<00:00, 2850.84it/s]\n",
      "100%|███████████████████████████████████████████| 4/4 [00:00<00:00, 3089.16it/s]\n",
      "100%|███████████████████████████████████████████| 4/4 [00:00<00:00, 2670.26it/s]\n",
      "100%|███████████████████████████████████████████| 4/4 [00:00<00:00, 2460.00it/s]\n",
      "100%|███████████████████████████████████████████| 4/4 [00:00<00:00, 2785.52it/s]\n",
      "100%|███████████████████████████████████████████| 4/4 [00:00<00:00, 2873.80it/s]\n",
      "100%|███████████████████████████████████████████| 4/4 [00:00<00:00, 2961.03it/s]\n",
      "100%|███████████████████████████████████████████| 4/4 [00:00<00:00, 2702.95it/s]\n",
      "100%|███████████████████████████████████████████| 4/4 [00:00<00:00, 2619.39it/s]\n",
      "100%|███████████████████████████████████████████| 4/4 [00:00<00:00, 2758.50it/s]\n",
      "100%|███████████████████████████████████████████| 4/4 [00:00<00:00, 2912.71it/s]\n",
      "100%|███████████████████████████████████████████| 4/4 [00:00<00:00, 2594.28it/s]\n",
      "100%|███████████████████████████████████████████| 4/4 [00:00<00:00, 2899.12it/s]\n",
      "100%|███████████████████████████████████████████| 4/4 [00:00<00:00, 3067.69it/s]\n",
      "100%|███████████████████████████████████████████| 4/4 [00:00<00:00, 3059.86it/s]\n",
      "100%|███████████████████████████████████████████| 4/4 [00:00<00:00, 3062.09it/s]\n",
      "100%|███████████████████████████████████████████| 4/4 [00:00<00:00, 2888.14it/s]\n",
      "100%|███████████████████████████████████████████| 3/3 [00:00<00:00, 2717.69it/s]\n",
      "100%|███████████████████████████████████████████| 4/4 [00:00<00:00, 3093.71it/s]\n",
      "100%|███████████████████████████████████████████| 4/4 [00:00<00:00, 2730.67it/s]\n",
      "100%|███████████████████████████████████████████| 4/4 [00:00<00:00, 2993.79it/s]\n",
      "100%|███████████████████████████████████████████| 4/4 [00:00<00:00, 3294.17it/s]\n",
      "100%|███████████████████████████████████████████| 5/5 [00:00<00:00, 2645.58it/s]\n",
      "100%|███████████████████████████████████████████| 4/4 [00:00<00:00, 2814.50it/s]\n",
      "100%|███████████████████████████████████████████| 4/4 [00:00<00:00, 2612.87it/s]\n",
      "100%|███████████████████████████████████████████| 4/4 [00:00<00:00, 3043.76it/s]\n",
      "100%|███████████████████████████████████████████| 4/4 [00:00<00:00, 2669.83it/s]\n",
      "100%|███████████████████████████████████████████| 5/5 [00:00<00:00, 3164.56it/s]\n",
      "100%|███████████████████████████████████████████| 6/6 [00:00<00:00, 3430.92it/s]\n",
      "100%|███████████████████████████████████████████| 4/4 [00:00<00:00, 2702.95it/s]\n",
      "100%|███████████████████████████████████████████| 5/5 [00:00<00:00, 3052.62it/s]\n",
      "100%|███████████████████████████████████████████| 4/4 [00:00<00:00, 2833.03it/s]\n",
      "100%|███████████████████████████████████████████| 4/4 [00:00<00:00, 3023.47it/s]\n",
      "100%|███████████████████████████████████████████| 4/4 [00:00<00:00, 2643.33it/s]\n",
      "100%|███████████████████████████████████████████| 4/4 [00:00<00:00, 2850.84it/s]\n",
      "100%|███████████████████████████████████████████| 4/4 [00:00<00:00, 2875.77it/s]\n",
      "100%|███████████████████████████████████████████| 5/5 [00:00<00:00, 3322.48it/s]\n",
      "100%|███████████████████████████████████████████| 4/4 [00:00<00:00, 2539.69it/s]\n",
      "100%|███████████████████████████████████████████| 4/4 [00:00<00:00, 2724.90it/s]\n",
      "100%|███████████████████████████████████████████| 4/4 [00:00<00:00, 3215.26it/s]\n",
      "100%|████████████████████████████████████████████| 4/4 [00:00<00:00, 800.36it/s]\n",
      "100%|███████████████████████████████████████████| 4/4 [00:00<00:00, 2224.80it/s]\n",
      "100%|███████████████████████████████████████████| 4/4 [00:00<00:00, 2319.86it/s]\n",
      "100%|███████████████████████████████████████████| 4/4 [00:00<00:00, 2430.07it/s]\n",
      "100%|███████████████████████████████████████████| 4/4 [00:00<00:00, 2229.83it/s]\n",
      "100%|███████████████████████████████████████████| 4/4 [00:00<00:00, 2466.51it/s]\n",
      "100%|███████████████████████████████████████████| 5/5 [00:00<00:00, 2724.64it/s]\n",
      "100%|███████████████████████████████████████████| 4/4 [00:00<00:00, 2516.83it/s]\n",
      "100%|███████████████████████████████████████████| 4/4 [00:00<00:00, 2283.24it/s]\n",
      "100%|███████████████████████████████████████████| 4/4 [00:00<00:00, 2325.32it/s]\n",
      "100%|███████████████████████████████████████████| 4/4 [00:00<00:00, 2764.41it/s]\n",
      "100%|███████████████████████████████████████████| 4/4 [00:00<00:00, 2749.46it/s]\n",
      "100%|███████████████████████████████████████████| 4/4 [00:00<00:00, 2569.25it/s]\n",
      "100%|███████████████████████████████████████████| 4/4 [00:00<00:00, 2510.81it/s]\n",
      "100%|███████████████████████████████████████████| 5/5 [00:00<00:00, 2730.31it/s]\n",
      "100%|███████████████████████████████████████████| 4/4 [00:00<00:00, 2499.96it/s]\n",
      "100%|███████████████████████████████████████████| 4/4 [00:00<00:00, 2436.07it/s]\n",
      "100%|███████████████████████████████████████████| 4/4 [00:00<00:00, 2222.44it/s]\n",
      "100%|███████████████████████████████████████████| 4/4 [00:00<00:00, 2577.15it/s]\n",
      "100%|███████████████████████████████████████████| 3/3 [00:00<00:00, 2657.43it/s]\n",
      "100%|███████████████████████████████████████████| 5/5 [00:00<00:00, 2560.00it/s]\n",
      "100%|███████████████████████████████████████████| 5/5 [00:00<00:00, 2681.09it/s]\n",
      "100%|███████████████████████████████████████████| 4/4 [00:00<00:00, 2337.64it/s]\n",
      "100%|███████████████████████████████████████████| 4/4 [00:00<00:00, 2467.60it/s]\n",
      "100%|███████████████████████████████████████████| 4/4 [00:00<00:00, 2753.52it/s]\n",
      "100%|███████████████████████████████████████████| 4/4 [00:00<00:00, 2307.10it/s]\n",
      "100%|███████████████████████████████████████████| 4/4 [00:00<00:00, 2461.45it/s]\n",
      "100%|███████████████████████████████████████████| 4/4 [00:00<00:00, 2700.78it/s]\n",
      "100%|███████████████████████████████████████████| 4/4 [00:00<00:00, 2867.90it/s]\n",
      "100%|███████████████████████████████████████████| 4/4 [00:00<00:00, 2676.22it/s]\n",
      "100%|███████████████████████████████████████████| 4/4 [00:00<00:00, 3294.82it/s]\n",
      "100%|███████████████████████████████████████████| 4/4 [00:00<00:00, 2787.38it/s]\n",
      "100%|███████████████████████████████████████████| 4/4 [00:00<00:00, 2956.34it/s]\n",
      "100%|███████████████████████████████████████████| 4/4 [00:00<00:00, 3009.91it/s]\n",
      "100%|███████████████████████████████████████████| 4/4 [00:00<00:00, 2649.17it/s]\n",
      "100%|███████████████████████████████████████████| 4/4 [00:00<00:00, 2807.43it/s]\n",
      "100%|███████████████████████████████████████████| 4/4 [00:00<00:00, 3127.16it/s]\n",
      "100%|███████████████████████████████████████████| 4/4 [00:00<00:00, 3086.32it/s]\n",
      "100%|███████████████████████████████████████████| 4/4 [00:00<00:00, 2981.03it/s]\n",
      "100%|███████████████████████████████████████████| 4/4 [00:00<00:00, 3048.74it/s]\n",
      "100%|███████████████████████████████████████████| 4/4 [00:00<00:00, 3118.44it/s]\n",
      "100%|███████████████████████████████████████████| 4/4 [00:00<00:00, 2899.12it/s]\n",
      "100%|███████████████████████████████████████████| 4/4 [00:00<00:00, 2575.17it/s]\n",
      "100%|███████████████████████████████████████████| 4/4 [00:00<00:00, 2754.88it/s]\n",
      "100%|███████████████████████████████████████████| 4/4 [00:00<00:00, 1883.18it/s]\n",
      "100%|███████████████████████████████████████████| 4/4 [00:00<00:00, 3161.93it/s]\n",
      "100%|███████████████████████████████████████████| 4/4 [00:00<00:00, 3135.34it/s]\n",
      "100%|███████████████████████████████████████████| 5/5 [00:00<00:00, 3021.40it/s]\n",
      "100%|███████████████████████████████████████████| 4/4 [00:00<00:00, 2730.67it/s]\n",
      "100%|███████████████████████████████████████████| 4/4 [00:00<00:00, 3014.23it/s]\n",
      "100%|███████████████████████████████████████████| 5/5 [00:00<00:00, 3123.09it/s]\n",
      "100%|███████████████████████████████████████████| 5/5 [00:00<00:00, 3129.14it/s]\n",
      "100%|███████████████████████████████████████████| 5/5 [00:00<00:00, 3230.36it/s]\n",
      "100%|███████████████████████████████████████████| 6/6 [00:00<00:00, 2928.30it/s]\n",
      "100%|███████████████████████████████████████████| 4/4 [00:00<00:00, 2565.72it/s]\n",
      "100%|███████████████████████████████████████████| 5/5 [00:00<00:00, 3041.55it/s]\n",
      "100%|███████████████████████████████████████████| 3/3 [00:00<00:00, 2727.71it/s]\n",
      "100%|███████████████████████████████████████████| 5/5 [00:00<00:00, 3019.22it/s]\n",
      "100%|███████████████████████████████████████████| 4/4 [00:00<00:00, 2986.86it/s]\n",
      "100%|███████████████████████████████████████████| 4/4 [00:00<00:00, 2980.50it/s]\n",
      "100%|███████████████████████████████████████████| 4/4 [00:00<00:00, 2880.21it/s]\n",
      "100%|███████████████████████████████████████████| 4/4 [00:00<00:00, 2679.21it/s]\n",
      "100%|███████████████████████████████████████████| 4/4 [00:00<00:00, 3233.85it/s]\n",
      "100%|███████████████████████████████████████████| 3/3 [00:00<00:00, 2377.27it/s]\n",
      "100%|███████████████████████████████████████████| 4/4 [00:00<00:00, 2930.52it/s]\n",
      "100%|███████████████████████████████████████████| 4/4 [00:00<00:00, 3077.26it/s]\n",
      "100%|███████████████████████████████████████████| 5/5 [00:00<00:00, 2928.98it/s]\n",
      "100%|███████████████████████████████████████████| 5/5 [00:00<00:00, 2802.56it/s]\n",
      "100%|███████████████████████████████████████████| 4/4 [00:00<00:00, 3289.65it/s]\n",
      "100%|███████████████████████████████████████████| 4/4 [00:00<00:00, 2753.07it/s]\n",
      "100%|███████████████████████████████████████████| 4/4 [00:00<00:00, 2943.89it/s]\n",
      "100%|███████████████████████████████████████████| 4/4 [00:00<00:00, 2721.37it/s]\n",
      "100%|███████████████████████████████████████████| 5/5 [00:00<00:00, 3270.16it/s]\n",
      "100%|███████████████████████████████████████████| 5/5 [00:00<00:00, 2910.29it/s]\n",
      "100%|███████████████████████████████████████████| 5/5 [00:00<00:00, 3180.39it/s]\n",
      "100%|███████████████████████████████████████████| 4/4 [00:00<00:00, 2475.25it/s]\n",
      "100%|███████████████████████████████████████████| 4/4 [00:00<00:00, 3077.26it/s]\n",
      "100%|███████████████████████████████████████████| 4/4 [00:00<00:00, 3243.85it/s]\n",
      "100%|███████████████████████████████████████████| 4/4 [00:00<00:00, 2848.91it/s]\n",
      "100%|███████████████████████████████████████████| 5/5 [00:00<00:00, 3448.13it/s]\n",
      "100%|███████████████████████████████████████████| 4/4 [00:00<00:00, 2962.60it/s]\n",
      "100%|███████████████████████████████████████████| 4/4 [00:00<00:00, 2642.08it/s]\n",
      "100%|███████████████████████████████████████████| 6/6 [00:00<00:00, 3167.90it/s]\n",
      "100%|███████████████████████████████████████████| 4/4 [00:00<00:00, 3069.38it/s]\n",
      "100%|███████████████████████████████████████████| 4/4 [00:00<00:00, 3353.43it/s]\n",
      "100%|███████████████████████████████████████████| 3/3 [00:00<00:00, 2895.95it/s]\n",
      "100%|███████████████████████████████████████████| 4/4 [00:00<00:00, 2976.27it/s]\n",
      "100%|███████████████████████████████████████████| 4/4 [00:00<00:00, 2976.27it/s]\n",
      "100%|███████████████████████████████████████████| 4/4 [00:00<00:00, 3032.21it/s]\n",
      "100%|███████████████████████████████████████████| 5/5 [00:00<00:00, 3006.24it/s]\n",
      "100%|███████████████████████████████████████████| 5/5 [00:00<00:00, 2847.07it/s]\n",
      "100%|███████████████████████████████████████████| 4/4 [00:00<00:00, 2954.26it/s]\n",
      "100%|███████████████████████████████████████████| 4/4 [00:00<00:00, 3135.34it/s]\n",
      "100%|███████████████████████████████████████████| 4/4 [00:00<00:00, 2665.17it/s]\n",
      "100%|███████████████████████████████████████████| 4/4 [00:00<00:00, 2883.67it/s]\n",
      "100%|███████████████████████████████████████████| 4/4 [00:00<00:00, 2930.52it/s]\n",
      "100%|███████████████████████████████████████████| 4/4 [00:00<00:00, 2886.15it/s]\n",
      "100%|███████████████████████████████████████████| 4/4 [00:00<00:00, 3161.34it/s]\n",
      "100%|███████████████████████████████████████████| 4/4 [00:00<00:00, 2932.57it/s]\n",
      "100%|███████████████████████████████████████████| 5/5 [00:00<00:00, 3177.98it/s]\n",
      "100%|███████████████████████████████████████████| 5/5 [00:00<00:00, 2967.53it/s]\n",
      "100%|███████████████████████████████████████████| 4/4 [00:00<00:00, 3248.88it/s]\n",
      "100%|███████████████████████████████████████████| 4/4 [00:00<00:00, 2928.47it/s]\n",
      "100%|███████████████████████████████████████████| 4/4 [00:00<00:00, 2890.13it/s]\n",
      "100%|███████████████████████████████████████████| 4/4 [00:00<00:00, 2507.81it/s]\n",
      "100%|███████████████████████████████████████████| 4/4 [00:00<00:00, 2621.03it/s]\n",
      "100%|███████████████████████████████████████████| 4/4 [00:00<00:00, 2945.96it/s]\n",
      "100%|███████████████████████████████████████████| 4/4 [00:00<00:00, 2867.90it/s]\n",
      "100%|███████████████████████████████████████████| 4/4 [00:00<00:00, 2743.62it/s]\n",
      "100%|███████████████████████████████████████████| 5/5 [00:00<00:00, 2651.27it/s]\n",
      "100%|███████████████████████████████████████████| 5/5 [00:00<00:00, 3304.68it/s]\n",
      "100%|███████████████████████████████████████████| 4/4 [00:00<00:00, 3030.02it/s]\n",
      "100%|███████████████████████████████████████████| 4/4 [00:00<00:00, 2924.39it/s]\n",
      "100%|███████████████████████████████████████████| 5/5 [00:00<00:00, 3245.36it/s]\n",
      "100%|███████████████████████████████████████████| 5/5 [00:00<00:00, 2910.29it/s]\n",
      "100%|███████████████████████████████████████████| 4/4 [00:00<00:00, 2939.25it/s]\n",
      "100%|███████████████████████████████████████████| 4/4 [00:00<00:00, 2869.37it/s]\n",
      "100%|███████████████████████████████████████████| 4/4 [00:00<00:00, 3109.77it/s]\n",
      "100%|███████████████████████████████████████████| 4/4 [00:00<00:00, 3098.86it/s]\n",
      "100%|███████████████████████████████████████████| 4/4 [00:00<00:00, 2879.71it/s]\n",
      "100%|███████████████████████████████████████████| 4/4 [00:00<00:00, 2548.18it/s]\n",
      "100%|███████████████████████████████████████████| 7/7 [00:00<00:00, 3301.86it/s]\n",
      "100%|███████████████████████████████████████████| 5/5 [00:00<00:00, 3164.56it/s]\n",
      "100%|███████████████████████████████████████████| 4/4 [00:00<00:00, 2727.12it/s]\n",
      "100%|███████████████████████████████████████████| 3/3 [00:00<00:00, 2747.36it/s]\n",
      "100%|███████████████████████████████████████████| 5/5 [00:00<00:00, 2934.31it/s]\n",
      "100%|███████████████████████████████████████████| 5/5 [00:00<00:00, 3205.18it/s]\n",
      "100%|███████████████████████████████████████████| 4/4 [00:00<00:00, 2632.96it/s]\n",
      "100%|███████████████████████████████████████████| 4/4 [00:00<00:00, 2655.88it/s]\n",
      "100%|███████████████████████████████████████████| 5/5 [00:00<00:00, 2970.47it/s]\n",
      "100%|███████████████████████████████████████████| 7/7 [00:00<00:00, 3484.47it/s]\n",
      "100%|███████████████████████████████████████████| 5/5 [00:00<00:00, 2556.26it/s]\n",
      "100%|███████████████████████████████████████████| 7/7 [00:00<00:00, 3479.10it/s]\n",
      "100%|███████████████████████████████████████████| 4/4 [00:00<00:00, 2624.72it/s]\n",
      "100%|███████████████████████████████████████████| 4/4 [00:00<00:00, 2684.35it/s]\n",
      "100%|███████████████████████████████████████████| 5/5 [00:00<00:00, 2981.45it/s]\n",
      "100%|███████████████████████████████████████████| 5/5 [00:00<00:00, 3044.65it/s]\n",
      "100%|███████████████████████████████████████████| 5/5 [00:00<00:00, 2805.93it/s]\n",
      "100%|███████████████████████████████████████████| 5/5 [00:00<00:00, 2839.36it/s]\n",
      "100%|███████████████████████████████████████████| 6/6 [00:00<00:00, 3324.42it/s]\n",
      "100%|███████████████████████████████████████████| 4/4 [00:00<00:00, 2998.07it/s]\n",
      "100%|███████████████████████████████████████████| 4/4 [00:00<00:00, 2710.37it/s]\n",
      "100%|███████████████████████████████████████████| 4/4 [00:00<00:00, 2696.87it/s]\n",
      "100%|███████████████████████████████████████████| 4/4 [00:00<00:00, 2910.69it/s]\n",
      "100%|███████████████████████████████████████████| 5/5 [00:00<00:00, 3158.84it/s]\n",
      "100%|███████████████████████████████████████████| 4/4 [00:00<00:00, 2535.09it/s]\n",
      "100%|███████████████████████████████████████████| 4/4 [00:00<00:00, 2778.14it/s]\n",
      "100%|███████████████████████████████████████████| 4/4 [00:00<00:00, 3199.93it/s]\n",
      "100%|███████████████████████████████████████████| 4/4 [00:00<00:00, 2901.13it/s]\n",
      "100%|███████████████████████████████████████████| 7/7 [00:00<00:00, 3216.84it/s]\n",
      "100%|███████████████████████████████████████████| 4/4 [00:00<00:00, 2818.75it/s]\n",
      "100%|███████████████████████████████████████████| 4/4 [00:00<00:00, 3074.44it/s]\n",
      "100%|███████████████████████████████████████████| 4/4 [00:00<00:00, 3007.75it/s]\n",
      "100%|███████████████████████████████████████████| 4/4 [00:00<00:00, 3101.15it/s]\n",
      "100%|███████████████████████████████████████████| 4/4 [00:00<00:00, 3079.52it/s]\n",
      "100%|███████████████████████████████████████████| 4/4 [00:00<00:00, 2854.72it/s]\n",
      "100%|███████████████████████████████████████████| 4/4 [00:00<00:00, 2001.10it/s]\n",
      "100%|███████████████████████████████████████████| 3/3 [00:00<00:00, 2591.21it/s]\n",
      "100%|███████████████████████████████████████████| 5/5 [00:00<00:00, 2547.25it/s]\n",
      "100%|███████████████████████████████████████████| 4/4 [00:00<00:00, 2963.13it/s]\n",
      "100%|███████████████████████████████████████████| 4/4 [00:00<00:00, 2762.59it/s]\n",
      "100%|███████████████████████████████████████████| 4/4 [00:00<00:00, 2689.95it/s]\n",
      "100%|███████████████████████████████████████████| 4/4 [00:00<00:00, 2909.18it/s]\n",
      "100%|███████████████████████████████████████████| 4/4 [00:00<00:00, 2853.27it/s]\n",
      "100%|███████████████████████████████████████████| 4/4 [00:00<00:00, 3240.72it/s]\n",
      "100%|███████████████████████████████████████████| 5/5 [00:00<00:00, 3265.57it/s]\n",
      "100%|███████████████████████████████████████████| 4/4 [00:00<00:00, 2939.25it/s]\n",
      "100%|███████████████████████████████████████████| 4/4 [00:00<00:00, 3294.82it/s]\n",
      "100%|███████████████████████████████████████████| 4/4 [00:00<00:00, 3603.35it/s]\n",
      "100%|███████████████████████████████████████████| 4/4 [00:00<00:00, 2877.25it/s]\n",
      "100%|███████████████████████████████████████████| 4/4 [00:00<00:00, 3383.87it/s]\n",
      "100%|███████████████████████████████████████████| 4/4 [00:00<00:00, 3012.07it/s]\n",
      "100%|███████████████████████████████████████████| 4/4 [00:00<00:00, 2645.83it/s]\n",
      "100%|███████████████████████████████████████████| 5/5 [00:00<00:00, 2770.71it/s]\n",
      "100%|███████████████████████████████████████████| 4/4 [00:00<00:00, 3003.44it/s]\n",
      "100%|███████████████████████████████████████████| 4/4 [00:00<00:00, 2577.15it/s]\n",
      "100%|███████████████████████████████████████████| 5/5 [00:00<00:00, 3561.74it/s]\n",
      "100%|███████████████████████████████████████████| 4/4 [00:00<00:00, 2736.01it/s]\n",
      "100%|███████████████████████████████████████████| 4/4 [00:00<00:00, 2794.81it/s]\n",
      "100%|███████████████████████████████████████████| 4/4 [00:00<00:00, 2741.38it/s]\n",
      "100%|███████████████████████████████████████████| 5/5 [00:00<00:00, 3518.12it/s]\n",
      "100%|███████████████████████████████████████████| 5/5 [00:00<00:00, 1977.89it/s]\n",
      "100%|███████████████████████████████████████████| 4/4 [00:00<00:00, 2640.83it/s]\n",
      "100%|███████████████████████████████████████████| 5/5 [00:00<00:00, 3266.08it/s]\n",
      "100%|███████████████████████████████████████████| 4/4 [00:00<00:00, 3289.65it/s]\n",
      "100%|███████████████████████████████████████████| 5/5 [00:00<00:00, 2813.84it/s]\n",
      "100%|███████████████████████████████████████████| 5/5 [00:00<00:00, 3133.35it/s]\n",
      "100%|███████████████████████████████████████████| 5/5 [00:00<00:00, 2981.45it/s]\n",
      "100%|███████████████████████████████████████████| 4/4 [00:00<00:00, 3136.51it/s]\n",
      "100%|███████████████████████████████████████████| 5/5 [00:00<00:00, 3374.34it/s]\n",
      "100%|███████████████████████████████████████████| 4/4 [00:00<00:00, 3228.25it/s]\n",
      "100%|███████████████████████████████████████████| 3/3 [00:00<00:00, 2727.71it/s]\n",
      "100%|███████████████████████████████████████████| 4/4 [00:00<00:00, 3053.73it/s]\n",
      "100%|███████████████████████████████████████████| 4/4 [00:00<00:00, 2701.21it/s]\n",
      "100%|███████████████████████████████████████████| 4/4 [00:00<00:00, 3294.82it/s]\n",
      "100%|███████████████████████████████████████████| 5/5 [00:00<00:00, 3164.08it/s]\n",
      "100%|███████████████████████████████████████████| 4/4 [00:00<00:00, 2824.92it/s]\n",
      "100%|███████████████████████████████████████████| 4/4 [00:00<00:00, 2787.84it/s]\n",
      "100%|███████████████████████████████████████████| 4/4 [00:00<00:00, 3072.19it/s]\n",
      "100%|███████████████████████████████████████████| 4/4 [00:00<00:00, 3190.19it/s]\n",
      "100%|███████████████████████████████████████████| 4/4 [00:00<00:00, 2886.15it/s]\n",
      "100%|███████████████████████████████████████████| 4/4 [00:00<00:00, 2777.68it/s]\n",
      "100%|███████████████████████████████████████████| 4/4 [00:00<00:00, 2721.37it/s]\n",
      "100%|███████████████████████████████████████████| 5/5 [00:00<00:00, 2902.23it/s]\n",
      "100%|███████████████████████████████████████████| 4/4 [00:00<00:00, 2939.25it/s]\n",
      "100%|███████████████████████████████████████████| 4/4 [00:00<00:00, 3238.22it/s]\n",
      "100%|███████████████████████████████████████████| 5/5 [00:00<00:00, 3045.09it/s]\n",
      "100%|███████████████████████████████████████████| 4/4 [00:00<00:00, 2821.12it/s]\n",
      "100%|███████████████████████████████████████████| 4/4 [00:00<00:00, 3122.50it/s]\n",
      "100%|███████████████████████████████████████████| 4/4 [00:00<00:00, 3075.00it/s]\n",
      "100%|███████████████████████████████████████████| 4/4 [00:00<00:00, 3202.37it/s]\n",
      "100%|███████████████████████████████████████████| 5/5 [00:00<00:00, 3109.19it/s]\n",
      "100%|███████████████████████████████████████████| 4/4 [00:00<00:00, 3410.00it/s]\n",
      "100%|███████████████████████████████████████████| 6/6 [00:00<00:00, 3571.65it/s]\n",
      "100%|███████████████████████████████████████████| 5/5 [00:00<00:00, 2897.02it/s]\n",
      "100%|███████████████████████████████████████████| 3/3 [00:00<00:00, 2527.20it/s]\n",
      "100%|███████████████████████████████████████████| 4/4 [00:00<00:00, 2978.91it/s]\n",
      "100%|███████████████████████████████████████████| 5/5 [00:00<00:00, 3063.77it/s]\n",
      "100%|███████████████████████████████████████████| 4/4 [00:00<00:00, 2642.08it/s]\n",
      "100%|███████████████████████████████████████████| 6/6 [00:00<00:00, 3466.37it/s]\n",
      "100%|███████████████████████████████████████████| 6/6 [00:00<00:00, 3378.42it/s]\n",
      "100%|███████████████████████████████████████████| 8/8 [00:00<00:00, 3563.93it/s]\n",
      "100%|███████████████████████████████████████████| 4/4 [00:00<00:00, 2978.38it/s]\n",
      "100%|███████████████████████████████████████████| 4/4 [00:00<00:00, 2980.50it/s]\n",
      "100%|███████████████████████████████████████████| 4/4 [00:00<00:00, 2930.01it/s]\n",
      "100%|███████████████████████████████████████████| 4/4 [00:00<00:00, 2891.63it/s]\n",
      "100%|███████████████████████████████████████████| 4/4 [00:00<00:00, 2665.17it/s]\n",
      "100%|███████████████████████████████████████████| 4/4 [00:00<00:00, 3292.23it/s]\n",
      "100%|███████████████████████████████████████████| 4/4 [00:00<00:00, 3243.85it/s]\n",
      "100%|███████████████████████████████████████████| 4/4 [00:00<00:00, 2633.37it/s]\n",
      "100%|███████████████████████████████████████████| 4/4 [00:00<00:00, 2888.14it/s]\n",
      "100%|███████████████████████████████████████████| 4/4 [00:00<00:00, 3096.57it/s]\n",
      "100%|███████████████████████████████████████████| 4/4 [00:00<00:00, 2758.50it/s]\n",
      "100%|███████████████████████████████████████████| 4/4 [00:00<00:00, 2969.42it/s]\n",
      "100%|███████████████████████████████████████████| 4/4 [00:00<00:00, 2908.67it/s]\n",
      "100%|███████████████████████████████████████████| 4/4 [00:00<00:00, 3039.90it/s]\n",
      "100%|███████████████████████████████████████████| 5/5 [00:00<00:00, 3278.34it/s]\n",
      "100%|███████████████████████████████████████████| 4/4 [00:00<00:00, 2636.68it/s]\n",
      "100%|███████████████████████████████████████████| 4/4 [00:00<00:00, 3197.49it/s]\n",
      "100%|███████████████████████████████████████████| 4/4 [00:00<00:00, 3128.91it/s]\n",
      "100%|███████████████████████████████████████████| 4/4 [00:00<00:00, 3350.08it/s]\n",
      "100%|███████████████████████████████████████████| 4/4 [00:00<00:00, 3064.89it/s]\n",
      "100%|███████████████████████████████████████████| 4/4 [00:00<00:00, 2668.13it/s]\n",
      "100%|███████████████████████████████████████████| 5/5 [00:00<00:00, 3186.68it/s]\n",
      "100%|███████████████████████████████████████████| 4/4 [00:00<00:00, 3300.65it/s]\n",
      "100%|███████████████████████████████████████████| 4/4 [00:00<00:00, 2986.86it/s]\n",
      "100%|███████████████████████████████████████████| 3/3 [00:00<00:00, 2666.44it/s]\n",
      "100%|███████████████████████████████████████████| 5/5 [00:00<00:00, 2920.42it/s]\n",
      "100%|███████████████████████████████████████████| 4/4 [00:00<00:00, 3074.44it/s]\n",
      "100%|███████████████████████████████████████████| 5/5 [00:00<00:00, 1265.56it/s]\n",
      "100%|███████████████████████████████████████████| 4/4 [00:00<00:00, 2652.94it/s]\n",
      "100%|███████████████████████████████████████████| 5/5 [00:00<00:00, 2902.23it/s]\n",
      "100%|███████████████████████████████████████████| 6/6 [00:00<00:00, 3474.02it/s]\n",
      "100%|███████████████████████████████████████████| 5/5 [00:00<00:00, 3190.56it/s]\n",
      "100%|███████████████████████████████████████████| 4/4 [00:00<00:00, 2965.74it/s]\n",
      "100%|███████████████████████████████████████████| 4/4 [00:00<00:00, 3144.75it/s]\n",
      "100%|███████████████████████████████████████████| 4/4 [00:00<00:00, 2998.07it/s]\n",
      "100%|███████████████████████████████████████████| 5/5 [00:00<00:00, 3080.88it/s]\n",
      "100%|███████████████████████████████████████████| 4/4 [00:00<00:00, 2947.51it/s]\n",
      "100%|███████████████████████████████████████████| 4/4 [00:00<00:00, 2648.76it/s]\n",
      "100%|███████████████████████████████████████████| 4/4 [00:00<00:00, 2836.86it/s]\n",
      "100%|███████████████████████████████████████████| 6/6 [00:00<00:00, 2802.43it/s]\n",
      "100%|███████████████████████████████████████████| 6/6 [00:00<00:00, 3168.30it/s]\n",
      "100%|███████████████████████████████████████████| 5/5 [00:00<00:00, 3615.16it/s]\n",
      "100%|███████████████████████████████████████████| 4/4 [00:00<00:00, 2934.62it/s]\n",
      "100%|███████████████████████████████████████████| 5/5 [00:00<00:00, 3130.08it/s]\n",
      "100%|███████████████████████████████████████████| 4/4 [00:00<00:00, 2867.41it/s]\n",
      "100%|███████████████████████████████████████████| 4/4 [00:00<00:00, 2921.84it/s]\n",
      "100%|███████████████████████████████████████████| 4/4 [00:00<00:00, 3254.55it/s]\n",
      "100%|███████████████████████████████████████████| 4/4 [00:00<00:00, 2974.16it/s]\n",
      "100%|███████████████████████████████████████████| 5/5 [00:00<00:00, 3564.16it/s]\n",
      "100%|███████████████████████████████████████████| 4/4 [00:00<00:00, 3319.59it/s]\n",
      "100%|███████████████████████████████████████████| 4/4 [00:00<00:00, 3161.93it/s]\n",
      "100%|███████████████████████████████████████████| 4/4 [00:00<00:00, 1369.79it/s]\n",
      "100%|███████████████████████████████████████████| 4/4 [00:00<00:00, 2285.72it/s]\n",
      "100%|███████████████████████████████████████████| 6/6 [00:00<00:00, 3141.41it/s]\n",
      "100%|███████████████████████████████████████████| 5/5 [00:00<00:00, 3401.71it/s]\n",
      "100%|███████████████████████████████████████████| 4/4 [00:00<00:00, 3081.78it/s]\n",
      "100%|███████████████████████████████████████████| 4/4 [00:00<00:00, 3007.75it/s]\n",
      "100%|███████████████████████████████████████████| 6/6 [00:00<00:00, 3454.00it/s]\n",
      "100%|███████████████████████████████████████████| 6/6 [00:00<00:00, 3276.37it/s]\n",
      "100%|███████████████████████████████████████████| 4/4 [00:00<00:00, 2645.41it/s]\n",
      "100%|███████████████████████████████████████████| 3/3 [00:00<00:00, 3141.02it/s]\n",
      "100%|███████████████████████████████████████████| 5/5 [00:00<00:00, 3194.93it/s]\n",
      "100%|███████████████████████████████████████████| 5/5 [00:00<00:00, 3015.75it/s]\n",
      "100%|███████████████████████████████████████████| 4/4 [00:00<00:00, 2972.05it/s]\n",
      "100%|███████████████████████████████████████████| 5/5 [00:00<00:00, 2930.62it/s]\n",
      "100%|███████████████████████████████████████████| 6/6 [00:00<00:00, 3313.04it/s]\n",
      "100%|███████████████████████████████████████████| 6/6 [00:00<00:00, 3642.47it/s]\n",
      "100%|███████████████████████████████████████████| 4/4 [00:00<00:00, 2993.79it/s]\n",
      "100%|███████████████████████████████████████████| 5/5 [00:00<00:00, 3433.45it/s]\n",
      "100%|███████████████████████████████████████████| 4/4 [00:00<00:00, 2956.34it/s]\n",
      "100%|███████████████████████████████████████████| 4/4 [00:00<00:00, 2958.42it/s]\n",
      "100%|███████████████████████████████████████████| 4/4 [00:00<00:00, 2910.69it/s]\n",
      "100%|███████████████████████████████████████████| 4/4 [00:00<00:00, 2910.69it/s]\n",
      "100%|███████████████████████████████████████████| 4/4 [00:00<00:00, 2996.47it/s]\n",
      "100%|███████████████████████████████████████████| 5/5 [00:00<00:00, 2855.60it/s]\n",
      "100%|███████████████████████████████████████████| 4/4 [00:00<00:00, 3207.88it/s]\n",
      "100%|███████████████████████████████████████████| 4/4 [00:00<00:00, 2540.08it/s]\n",
      "100%|███████████████████████████████████████████| 3/3 [00:00<00:00, 2874.12it/s]\n",
      "100%|███████████████████████████████████████████| 4/4 [00:00<00:00, 2980.50it/s]\n",
      "100%|███████████████████████████████████████████| 4/4 [00:00<00:00, 3037.15it/s]\n",
      "100%|███████████████████████████████████████████| 4/4 [00:00<00:00, 3200.54it/s]\n",
      "100%|███████████████████████████████████████████| 4/4 [00:00<00:00, 3217.11it/s]\n",
      "100%|███████████████████████████████████████████| 4/4 [00:00<00:00, 2967.84it/s]\n",
      "100%|███████████████████████████████████████████| 4/4 [00:00<00:00, 2988.99it/s]\n",
      "100%|███████████████████████████████████████████| 4/4 [00:00<00:00, 3154.80it/s]\n",
      "100%|███████████████████████████████████████████| 4/4 [00:00<00:00, 3112.66it/s]\n",
      "100%|███████████████████████████████████████████| 4/4 [00:00<00:00, 3100.58it/s]\n",
      "100%|███████████████████████████████████████████| 4/4 [00:00<00:00, 3202.37it/s]\n",
      "100%|███████████████████████████████████████████| 4/4 [00:00<00:00, 2834.95it/s]\n",
      "100%|███████████████████████████████████████████| 4/4 [00:00<00:00, 3169.70it/s]\n",
      "100%|███████████████████████████████████████████| 4/4 [00:00<00:00, 3358.80it/s]\n",
      "100%|███████████████████████████████████████████| 4/4 [00:00<00:00, 3454.23it/s]\n",
      "100%|███████████████████████████████████████████| 4/4 [00:00<00:00, 3442.19it/s]\n",
      "100%|███████████████████████████████████████████| 4/4 [00:00<00:00, 3100.58it/s]\n",
      "100%|███████████████████████████████████████████| 4/4 [00:00<00:00, 3225.77it/s]\n",
      "100%|███████████████████████████████████████████| 5/5 [00:00<00:00, 3436.83it/s]\n",
      "100%|███████████████████████████████████████████| 4/4 [00:00<00:00, 2501.45it/s]\n",
      "100%|███████████████████████████████████████████| 4/4 [00:00<00:00, 2995.93it/s]\n",
      "100%|███████████████████████████████████████████| 4/4 [00:00<00:00, 3228.25it/s]\n",
      "100%|███████████████████████████████████████████| 4/4 [00:00<00:00, 3238.84it/s]\n",
      "100%|███████████████████████████████████████████| 4/4 [00:00<00:00, 3202.37it/s]\n",
      "100%|███████████████████████████████████████████| 4/4 [00:00<00:00, 3225.77it/s]\n",
      "100%|███████████████████████████████████████████| 6/6 [00:00<00:00, 3436.55it/s]\n",
      "100%|███████████████████████████████████████████| 4/4 [00:00<00:00, 3101.15it/s]\n",
      "100%|███████████████████████████████████████████| 4/4 [00:00<00:00, 2934.62it/s]\n",
      "100%|███████████████████████████████████████████| 4/4 [00:00<00:00, 3197.49it/s]\n",
      "100%|███████████████████████████████████████████| 4/4 [00:00<00:00, 3202.98it/s]\n",
      "100%|███████████████████████████████████████████| 4/4 [00:00<00:00, 3392.76it/s]\n",
      "100%|███████████████████████████████████████████| 4/4 [00:00<00:00, 3044.87it/s]\n",
      "100%|███████████████████████████████████████████| 4/4 [00:00<00:00, 2945.96it/s]\n",
      "100%|███████████████████████████████████████████| 4/4 [00:00<00:00, 3124.83it/s]\n",
      "100%|███████████████████████████████████████████| 4/4 [00:00<00:00, 3319.59it/s]\n",
      "100%|███████████████████████████████████████████| 4/4 [00:00<00:00, 3249.51it/s]\n",
      "100%|███████████████████████████████████████████| 4/4 [00:00<00:00, 3539.50it/s]\n",
      "100%|███████████████████████████████████████████| 4/4 [00:00<00:00, 3361.49it/s]\n",
      "100%|███████████████████████████████████████████| 4/4 [00:00<00:00, 2728.89it/s]\n",
      "100%|███████████████████████████████████████████| 4/4 [00:00<00:00, 3051.51it/s]\n",
      "100%|███████████████████████████████████████████| 4/4 [00:00<00:00, 2616.13it/s]\n",
      "100%|███████████████████████████████████████████| 4/4 [00:00<00:00, 2697.30it/s]\n",
      "100%|███████████████████████████████████████████| 4/4 [00:00<00:00, 3311.07it/s]\n",
      "100%|███████████████████████████████████████████| 4/4 [00:00<00:00, 3207.88it/s]\n",
      "100%|███████████████████████████████████████████| 4/4 [00:00<00:00, 3154.80it/s]\n",
      "100%|███████████████████████████████████████████| 4/4 [00:00<00:00, 3053.73it/s]\n",
      "100%|███████████████████████████████████████████| 4/4 [00:00<00:00, 2777.68it/s]\n",
      "100%|███████████████████████████████████████████| 4/4 [00:00<00:00, 3176.90it/s]\n",
      "100%|███████████████████████████████████████████| 6/6 [00:00<00:00, 3629.86it/s]\n",
      "100%|███████████████████████████████████████████| 6/6 [00:00<00:00, 3595.12it/s]\n",
      "100%|███████████████████████████████████████████| 4/4 [00:00<00:00, 3328.15it/s]\n",
      "100%|███████████████████████████████████████████| 4/4 [00:00<00:00, 3433.73it/s]\n",
      "100%|███████████████████████████████████████████| 4/4 [00:00<00:00, 3019.66it/s]\n",
      "100%|███████████████████████████████████████████| 5/5 [00:00<00:00, 3349.01it/s]\n",
      "100%|███████████████████████████████████████████| 4/4 [00:00<00:00, 3190.19it/s]\n",
      "100%|███████████████████████████████████████████| 4/4 [00:00<00:00, 2751.27it/s]\n",
      "100%|███████████████████████████████████████████| 4/4 [00:00<00:00, 3204.82it/s]\n",
      "100%|███████████████████████████████████████████| 4/4 [00:00<00:00, 3139.45it/s]\n",
      "100%|███████████████████████████████████████████| 4/4 [00:00<00:00, 3139.45it/s]\n",
      "100%|███████████████████████████████████████████| 5/5 [00:00<00:00, 3351.15it/s]\n",
      "100%|███████████████████████████████████████████| 4/4 [00:00<00:00, 3100.58it/s]\n",
      "100%|███████████████████████████████████████████| 4/4 [00:00<00:00, 2434.66it/s]\n",
      "100%|███████████████████████████████████████████| 4/4 [00:00<00:00, 3171.50it/s]\n",
      "100%|███████████████████████████████████████████| 4/4 [00:00<00:00, 3167.31it/s]\n",
      "100%|███████████████████████████████████████████| 5/5 [00:00<00:00, 3191.04it/s]\n",
      "100%|███████████████████████████████████████████| 4/4 [00:00<00:00, 3002.90it/s]\n",
      "100%|███████████████████████████████████████████| 4/4 [00:00<00:00, 3169.70it/s]\n",
      "100%|███████████████████████████████████████████| 4/4 [00:00<00:00, 3194.44it/s]\n",
      "100%|███████████████████████████████████████████| 5/5 [00:00<00:00, 3176.54it/s]\n",
      "100%|███████████████████████████████████████████| 4/4 [00:00<00:00, 3225.77it/s]\n",
      "100%|███████████████████████████████████████████| 4/4 [00:00<00:00, 3195.66it/s]\n",
      "100%|███████████████████████████████████████████| 5/5 [00:00<00:00, 3455.51it/s]\n",
      "100%|███████████████████████████████████████████| 5/5 [00:00<00:00, 3103.67it/s]\n",
      "100%|███████████████████████████████████████████| 4/4 [00:00<00:00, 2958.42it/s]\n",
      "100%|███████████████████████████████████████████| 4/4 [00:00<00:00, 3069.38it/s]\n",
      "100%|███████████████████████████████████████████| 5/5 [00:00<00:00, 3143.21it/s]\n",
      "100%|███████████████████████████████████████████| 5/5 [00:00<00:00, 3380.32it/s]\n",
      "100%|███████████████████████████████████████████| 4/4 [00:00<00:00, 2700.78it/s]\n",
      "100%|███████████████████████████████████████████| 6/6 [00:00<00:00, 3115.35it/s]\n",
      "100%|███████████████████████████████████████████| 4/4 [00:00<00:00, 2108.22it/s]\n",
      "100%|███████████████████████████████████████████| 5/5 [00:00<00:00, 3048.63it/s]\n",
      "100%|███████████████████████████████████████████| 5/5 [00:00<00:00, 2705.65it/s]\n",
      "100%|███████████████████████████████████████████| 5/5 [00:00<00:00, 2608.40it/s]\n",
      "100%|███████████████████████████████████████████| 5/5 [00:00<00:00, 2907.46it/s]\n",
      "100%|███████████████████████████████████████████| 3/3 [00:00<00:00, 2305.83it/s]\n",
      "100%|███████████████████████████████████████████| 4/4 [00:00<00:00, 2730.67it/s]\n",
      "100%|███████████████████████████████████████████| 3/3 [00:00<00:00, 2459.52it/s]\n",
      "100%|███████████████████████████████████████████| 4/4 [00:00<00:00, 2850.84it/s]\n",
      "100%|███████████████████████████████████████████| 4/4 [00:00<00:00, 2810.72it/s]\n",
      "100%|███████████████████████████████████████████| 6/6 [00:00<00:00, 3430.46it/s]\n",
      "100%|███████████████████████████████████████████| 4/4 [00:00<00:00, 2834.47it/s]\n",
      "100%|███████████████████████████████████████████| 4/4 [00:00<00:00, 2838.78it/s]\n",
      "100%|███████████████████████████████████████████| 4/4 [00:00<00:00, 3289.01it/s]\n",
      "100%|███████████████████████████████████████████| 4/4 [00:00<00:00, 3549.98it/s]\n",
      "100%|███████████████████████████████████████████| 4/4 [00:00<00:00, 2911.19it/s]\n",
      "100%|███████████████████████████████████████████| 4/4 [00:00<00:00, 2807.43it/s]\n",
      "100%|███████████████████████████████████████████| 4/4 [00:00<00:00, 3002.90it/s]\n",
      "100%|███████████████████████████████████████████| 4/4 [00:00<00:00, 3182.32it/s]\n",
      "100%|███████████████████████████████████████████| 4/4 [00:00<00:00, 3257.08it/s]\n",
      "100%|███████████████████████████████████████████| 4/4 [00:00<00:00, 2736.01it/s]\n",
      "100%|███████████████████████████████████████████| 4/4 [00:00<00:00, 3117.28it/s]\n",
      "100%|███████████████████████████████████████████| 4/4 [00:00<00:00, 3474.98it/s]\n",
      "100%|███████████████████████████████████████████| 4/4 [00:00<00:00, 3010.45it/s]\n",
      "100%|███████████████████████████████████████████| 4/4 [00:00<00:00, 3213.41it/s]\n",
      "100%|███████████████████████████████████████████| 4/4 [00:00<00:00, 3336.09it/s]\n",
      "100%|███████████████████████████████████████████| 4/4 [00:00<00:00, 2982.62it/s]\n",
      "100%|███████████████████████████████████████████| 4/4 [00:00<00:00, 3092.00it/s]\n",
      "100%|███████████████████████████████████████████| 4/4 [00:00<00:00, 3098.29it/s]\n",
      "100%|███████████████████████████████████████████| 4/4 [00:00<00:00, 3305.20it/s]\n",
      "100%|███████████████████████████████████████████| 4/4 [00:00<00:00, 2886.15it/s]\n",
      "100%|███████████████████████████████████████████| 4/4 [00:00<00:00, 3265.96it/s]\n",
      "100%|███████████████████████████████████████████| 4/4 [00:00<00:00, 3294.82it/s]\n",
      "100%|███████████████████████████████████████████| 7/7 [00:00<00:00, 3522.51it/s]\n",
      "100%|███████████████████████████████████████████| 5/5 [00:00<00:00, 3240.85it/s]\n",
      "100%|███████████████████████████████████████████| 4/4 [00:00<00:00, 1047.59it/s]\n",
      "100%|███████████████████████████████████████████| 4/4 [00:00<00:00, 3020.74it/s]\n",
      "100%|███████████████████████████████████████████| 4/4 [00:00<00:00, 3192.01it/s]\n",
      "100%|███████████████████████████████████████████| 4/4 [00:00<00:00, 3169.10it/s]\n",
      "100%|███████████████████████████████████████████| 6/6 [00:00<00:00, 2476.22it/s]\n",
      "100%|███████████████████████████████████████████| 5/5 [00:00<00:00, 2754.70it/s]\n",
      "100%|███████████████████████████████████████████| 4/4 [00:00<00:00, 2402.24it/s]\n",
      "100%|███████████████████████████████████████████| 4/4 [00:00<00:00, 2277.97it/s]\n",
      "100%|███████████████████████████████████████████| 3/3 [00:00<00:00, 2531.77it/s]\n",
      "100%|███████████████████████████████████████████| 4/4 [00:00<00:00, 2408.10it/s]\n",
      "100%|███████████████████████████████████████████| 4/4 [00:00<00:00, 2826.35it/s]\n",
      "100%|███████████████████████████████████████████| 4/4 [00:00<00:00, 2594.28it/s]\n",
      "100%|███████████████████████████████████████████| 4/4 [00:00<00:00, 2443.17it/s]\n",
      "100%|███████████████████████████████████████████| 4/4 [00:00<00:00, 2115.13it/s]\n",
      "100%|███████████████████████████████████████████| 4/4 [00:00<00:00, 2158.67it/s]\n",
      "100%|███████████████████████████████████████████| 3/3 [00:00<00:00, 1985.31it/s]\n",
      "100%|███████████████████████████████████████████| 4/4 [00:00<00:00, 2458.56it/s]\n",
      "100%|███████████████████████████████████████████| 4/4 [00:00<00:00, 2284.17it/s]\n",
      "100%|███████████████████████████████████████████| 4/4 [00:00<00:00, 2697.30it/s]\n",
      "100%|███████████████████████████████████████████| 4/4 [00:00<00:00, 2531.65it/s]\n",
      "100%|███████████████████████████████████████████| 4/4 [00:00<00:00, 2437.84it/s]\n",
      "100%|███████████████████████████████████████████| 6/6 [00:00<00:00, 2836.86it/s]\n",
      "100%|███████████████████████████████████████████| 4/4 [00:00<00:00, 2594.28it/s]\n",
      "100%|███████████████████████████████████████████| 4/4 [00:00<00:00, 2666.86it/s]\n",
      "100%|███████████████████████████████████████████| 7/7 [00:00<00:00, 3727.32it/s]\n",
      "100%|███████████████████████████████████████████| 5/5 [00:00<00:00, 2665.42it/s]\n",
      "100%|█████████████████████████████████████| 7093/7093 [00:04<00:00, 1617.60it/s]\n"
     ]
    },
    {
     "name": "stdout",
     "output_type": "stream",
     "text": [
      "There are 1 holes.\n",
      "There was some issue.  Check it out!\n"
     ]
    }
   ],
   "source": [
    "vest_base = do_smart_repair(vest_base, min_rook_length = 30.5, snap_precision = 8)"
   ]
  },
  {
   "cell_type": "code",
   "execution_count": 31,
   "metadata": {},
   "outputs": [
    {
     "name": "stderr",
     "output_type": "stream",
     "text": [
      "100%|█████████████████████████████████████| 7093/7093 [00:04<00:00, 1509.97it/s]\n"
     ]
    },
    {
     "name": "stdout",
     "output_type": "stream",
     "text": [
      "There are 1 holes.\n"
     ]
    },
    {
     "data": {
      "text/plain": [
       "False"
      ]
     },
     "execution_count": 31,
     "metadata": {},
     "output_type": "execute_result"
    }
   ],
   "source": [
    "maup.doctor(vest_base)"
   ]
  },
  {
   "cell_type": "markdown",
   "metadata": {},
   "source": [
    "Let's take a look at the hole:"
   ]
  },
  {
   "cell_type": "code",
   "execution_count": 33,
   "metadata": {},
   "outputs": [
    {
     "data": {
      "text/plain": [
       "<Axes: >"
      ]
     },
     "execution_count": 33,
     "metadata": {},
     "output_type": "execute_result"
    },
    {
     "data": {
      "image/png": "[encoded data removed]",
      "text/plain": [
       "<Figure size 640x480 with 1 Axes>"
      ]
     },
     "metadata": {},
     "output_type": "display_data"
    }
   ],
   "source": [
    "vest_base.plot()"
   ]
  },
  {
   "cell_type": "markdown",
   "metadata": {},
   "source": [
    "It's Lake Winnebago.  No problems here, so let's keep going."
   ]
  },
  {
   "cell_type": "code",
   "execution_count": 35,
   "metadata": {},
   "outputs": [
    {
     "name": "stderr",
     "output_type": "stream",
     "text": [
      "100%|█████████████████████████████████████| 7093/7093 [00:04<00:00, 1754.07it/s]\n",
      "100%|██████████████████████████████████████| 7093/7093 [00:15<00:00, 450.21it/s]\n"
     ]
    }
   ],
   "source": [
    "# vap and population have the same GEOID20\n",
    "blocks_to_precincts_assignment = maup.assign(population_df.geometry, vest_base.geometry)"
   ]
  },
  {
   "cell_type": "code",
   "execution_count": 36,
   "metadata": {},
   "outputs": [],
   "source": [
    "vest_base[pop_col] = population_df[pop_col].groupby(blocks_to_precincts_assignment).sum()"
   ]
  },
  {
   "cell_type": "code",
   "execution_count": 37,
   "metadata": {},
   "outputs": [],
   "source": [
    "election_df = gpd.GeoDataFrame(vest_base)"
   ]
  },
  {
   "cell_type": "code",
   "execution_count": 38,
   "metadata": {},
   "outputs": [
    {
     "data": {
      "text/plain": [
       "Index(['CNTY_FIPS', 'CNTY_NAME', 'CTV', 'LABEL', 'MCD_FIPS', 'MCD_NAME',\n",
       "       'PERSONS', 'PRE20D', 'PRE20O', 'PRE20R', 'RV', 'WARDID', 'geometry',\n",
       "       'TOTPOP', 'HISP', 'NH_WHITE', 'NH_BLACK', 'NH_AMIN', 'NH_ASIAN',\n",
       "       'NH_NHPI', 'NH_OTHER', 'NH_2MORE', 'H_WHITE', 'H_BLACK', 'H_AMIN',\n",
       "       'H_ASIAN', 'H_NHPI', 'H_OTHER', 'H_2MORE', 'VAP', 'HVAP', 'WVAP',\n",
       "       'BVAP', 'AMINVAP', 'ASIANVAP', 'NHPIVAP', 'OTHERVAP', '2MOREVAP'],\n",
       "      dtype='object')"
      ]
     },
     "execution_count": 38,
     "metadata": {},
     "output_type": "execute_result"
    }
   ],
   "source": [
    "election_df.columns"
   ]
  },
  {
   "cell_type": "markdown",
   "metadata": {},
   "source": [
    "## Check if population agrees"
   ]
  },
  {
   "cell_type": "code",
   "execution_count": 40,
   "metadata": {},
   "outputs": [
    {
     "name": "stdout",
     "output_type": "stream",
     "text": [
      "population agrees\n"
     ]
    }
   ],
   "source": [
    "check_population(population_df, vest_base)"
   ]
  },
  {
   "cell_type": "markdown",
   "metadata": {},
   "source": [
    "## Add more vest data"
   ]
  },
  {
   "cell_type": "code",
   "execution_count": 42,
   "metadata": {},
   "outputs": [],
   "source": [
    "vest18 = gpd.read_file(vest18_data)\n",
    "vest16 = gpd.read_file(vest16_data)"
   ]
  },
  {
   "cell_type": "code",
   "execution_count": 43,
   "metadata": {},
   "outputs": [
    {
     "data": {
      "text/plain": [
       "Index(['CNTY_FIPS', 'CNTY_NAME', 'MCD_FIPS', 'MCD_NAME', 'CTV', 'WARDID',\n",
       "       'LABEL', 'PERSONS', 'RV', 'G18USSRVUK', 'G18USSDBAL', 'G18USSOWAL',\n",
       "       'G18USSOSCH', 'G18USSOWRI', 'G18GOVRWAL', 'G18GOVDEVE', 'G18GOVLAND',\n",
       "       'G18GOVGWHI', 'G18GOVITUR', 'G18GOVIENZ', 'G18GOVOCAS', 'G18GOVOBOU',\n",
       "       'G18GOVOGRI', 'G18GOVOLAN', 'G18GOVOHOF', 'G18GOVOTUR', 'G18GOVONO1',\n",
       "       'G18GOVONO2', 'G18GOVOWRI', 'G18ATGRSCH', 'G18ATGDKAU', 'G18ATGCLAR',\n",
       "       'G18ATGOWRI', 'G18SOSRSCH', 'G18SOSDLAF', 'G18SOSOKAR', 'G18SOSOWRI',\n",
       "       'G18TRERHAR', 'G18TREDGOD', 'G18TRECZUE', 'G18TREOWRI', 'geometry'],\n",
       "      dtype='object')"
      ]
     },
     "execution_count": 43,
     "metadata": {},
     "output_type": "execute_result"
    }
   ],
   "source": [
    "vest18.columns"
   ]
  },
  {
   "cell_type": "code",
   "execution_count": 44,
   "metadata": {},
   "outputs": [
    {
     "data": {
      "text/plain": [
       "Index(['CNTY_FIPS', 'CNTY_NAME', 'MCD_FIPS', 'MCD_NAME', 'CTV', 'WARDID',\n",
       "       'LABEL', 'PERSONS', 'RV', 'G16PRERTRU', 'G16PREDCLI', 'G16PRECCAS',\n",
       "       'G16PRELJOH', 'G16PREGSTE', 'G16PREWMOO', 'G16PREADEL', 'G16PREOFOX',\n",
       "       'G16PREOMCM', 'G16PREOMAT', 'G16PREOSCH', 'G16PREOKEN', 'G16PREOKOT',\n",
       "       'G16PREOHOE', 'G16PREOMAL', 'G16PREOSOL', 'G16PREOWRI', 'G16USSRJOH',\n",
       "       'G16USSDFEI', 'G16USSLAND', 'G16USSOSCH', 'G16USSOWRI', 'geometry'],\n",
       "      dtype='object')"
      ]
     },
     "execution_count": 44,
     "metadata": {},
     "output_type": "execute_result"
    }
   ],
   "source": [
    "vest16.columns"
   ]
  },
  {
   "cell_type": "code",
   "execution_count": 45,
   "metadata": {},
   "outputs": [
    {
     "name": "stderr",
     "output_type": "stream",
     "text": [
      "100%|█████████████████████████████████████| 6997/6997 [00:04<00:00, 1620.19it/s]\n"
     ]
    },
    {
     "name": "stdout",
     "output_type": "stream",
     "text": [
      "There are 2460 overlaps.\n",
      "There are 2999 holes.\n",
      "There are some invalid geometries.\n",
      "Snapping all geometries to a grid with precision 10^( -5 ) to avoid GEOS errors.\n",
      "Identifying overlaps...\n"
     ]
    },
    {
     "name": "stderr",
     "output_type": "stream",
     "text": [
      "100%|███████████████████████████████████| 14891/14891 [00:03<00:00, 3957.57it/s]\n"
     ]
    },
    {
     "name": "stdout",
     "output_type": "stream",
     "text": [
      "Resolving overlaps...\n",
      "Assigning order 2 pieces...\n",
      "Assigning order 3 pieces...\n",
      "2 gaps will remain unfilled, because they either are not simply connected or exceed the area threshold.\n",
      "Filling gaps...\n"
     ]
    },
    {
     "name": "stderr",
     "output_type": "stream",
     "text": [
      "Gaps to simplify: 2912it [49:22,  1.02s/it]                                     \n",
      "Gaps to fill: 100%|███████████████████████████| 768/768 [33:03<00:00,  2.58s/it]\n",
      "100%|█████████████████████████████████████| 6997/6997 [00:04<00:00, 1490.57it/s]\n"
     ]
    },
    {
     "name": "stdout",
     "output_type": "stream",
     "text": [
      "There are 2 holes.\n",
      "There was some issue.  Check it out!\n"
     ]
    },
    {
     "name": "stderr",
     "output_type": "stream",
     "text": [
      "100%|█████████████████████████████████████| 6997/6997 [00:04<00:00, 1675.70it/s]\n",
      "100%|██████████████████████████████████████| 6997/6997 [00:16<00:00, 422.07it/s]\n",
      "100%|█████████████████████████████████████| 7093/7093 [00:04<00:00, 1752.92it/s]\n",
      "100%|██████████████████████████████████████| 7093/7093 [00:15<00:00, 465.05it/s]\n"
     ]
    },
    {
     "name": "stdout",
     "output_type": "stream",
     "text": [
      "population agrees\n"
     ]
    }
   ],
   "source": [
    "# check the result here\n",
    "election_df = add_vest(vest18, election_df, '18', population_df, start_col)"
   ]
  },
  {
   "cell_type": "code",
   "execution_count": 46,
   "metadata": {},
   "outputs": [
    {
     "data": {
      "text/plain": [
       "Index(['2MOREVAP', 'AMINVAP', 'ASIANVAP', 'ATG18D', 'ATG18O', 'ATG18R', 'BVAP',\n",
       "       'CNTY_FIPS', 'CNTY_NAME', 'CTV', 'GOV18D', 'GOV18O', 'GOV18R', 'HISP',\n",
       "       'HVAP', 'H_2MORE', 'H_AMIN', 'H_ASIAN', 'H_BLACK', 'H_NHPI', 'H_OTHER',\n",
       "       'H_WHITE', 'LABEL', 'MCD_FIPS', 'MCD_NAME', 'NHPIVAP', 'NH_2MORE',\n",
       "       'NH_AMIN', 'NH_ASIAN', 'NH_BLACK', 'NH_NHPI', 'NH_OTHER', 'NH_WHITE',\n",
       "       'OTHERVAP', 'PERSONS', 'PRE20D', 'PRE20O', 'PRE20R', 'RV', 'SOS18D',\n",
       "       'SOS18O', 'SOS18R', 'TOTPOP', 'TRE18D', 'TRE18O', 'TRE18R', 'USS18D',\n",
       "       'USS18O', 'USS18R', 'VAP', 'WARDID', 'WVAP', 'geometry'],\n",
       "      dtype='object')"
      ]
     },
     "execution_count": 46,
     "metadata": {},
     "output_type": "execute_result"
    }
   ],
   "source": [
    "election_df.columns"
   ]
  },
  {
   "cell_type": "code",
   "execution_count": 47,
   "metadata": {},
   "outputs": [
    {
     "name": "stderr",
     "output_type": "stream",
     "text": [
      "100%|█████████████████████████████████████| 6881/6881 [00:04<00:00, 1629.60it/s]\n"
     ]
    },
    {
     "name": "stdout",
     "output_type": "stream",
     "text": [
      "There are 2684 overlaps.\n",
      "There are 41201 holes.\n",
      "There are some invalid geometries.\n",
      "Snapping all geometries to a grid with precision 10^( -5 ) to avoid GEOS errors.\n",
      "Identifying overlaps...\n"
     ]
    },
    {
     "name": "stderr",
     "output_type": "stream",
     "text": [
      "100%|████████████████████████████████████| 89163/89163 [01:53<00:00, 789.02it/s]\n"
     ]
    },
    {
     "name": "stdout",
     "output_type": "stream",
     "text": [
      "Resolving overlaps...\n",
      "Assigning order 2 pieces...\n",
      "Assigning order 3 pieces...\n",
      "2 gaps will remain unfilled, because they either are not simply connected or exceed the area threshold.\n",
      "Filling gaps...\n"
     ]
    },
    {
     "name": "stderr",
     "output_type": "stream",
     "text": [
      "Gaps to simplify: 39880it [10:16:34,  1.08it/s]                                 \n",
      "Gaps to fill: 100%|█████████████████████████| 1638/1638 [43:11<00:00,  1.58s/it]\n",
      "100%|█████████████████████████████████████| 6881/6881 [00:04<00:00, 1503.69it/s]\n"
     ]
    },
    {
     "name": "stdout",
     "output_type": "stream",
     "text": [
      "There are 2 holes.\n",
      "There was some issue.  Check it out!\n"
     ]
    },
    {
     "name": "stderr",
     "output_type": "stream",
     "text": [
      "100%|█████████████████████████████████████| 6881/6881 [00:04<00:00, 1707.25it/s]\n",
      "100%|██████████████████████████████████████| 6881/6881 [00:16<00:00, 415.36it/s]\n",
      "100%|█████████████████████████████████████| 7093/7093 [00:03<00:00, 1848.29it/s]\n",
      "100%|██████████████████████████████████████| 7093/7093 [00:14<00:00, 473.83it/s]\n"
     ]
    },
    {
     "name": "stdout",
     "output_type": "stream",
     "text": [
      "population agrees\n"
     ]
    }
   ],
   "source": [
    "election_df = add_vest(vest16, election_df, '16', population_df, start_col)"
   ]
  },
  {
   "cell_type": "markdown",
   "metadata": {},
   "source": [
    "##  Add the district data"
   ]
  },
  {
   "cell_type": "code",
   "execution_count": 49,
   "metadata": {},
   "outputs": [],
   "source": [
    "cong_df = gpd.read_file(cd_data)\n",
    "cong_df = cong_df.to_crs(cong_df.estimate_utm_crs())\n",
    "send = gpd.read_file(send_data)\n",
    "send = send.to_crs(send.estimate_utm_crs())\n",
    "hdist = gpd.read_file(hdist_data)\n",
    "hdist = hdist.to_crs(hdist.estimate_utm_crs())"
   ]
  },
  {
   "cell_type": "code",
   "execution_count": 50,
   "metadata": {},
   "outputs": [
    {
     "data": {
      "text/html": [
       "<div>\n",
       "<style scoped>\n",
       "    .dataframe tbody tr th:only-of-type {\n",
       "        vertical-align: middle;\n",
       "    }\n",
       "\n",
       "    .dataframe tbody tr th {\n",
       "        vertical-align: top;\n",
       "    }\n",
       "\n",
       "    .dataframe thead th {\n",
       "        text-align: right;\n",
       "    }\n",
       "</style>\n",
       "<table border=\"1\" class=\"dataframe\">\n",
       "  <thead>\n",
       "    <tr style=\"text-align: right;\">\n",
       "      <th></th>\n",
       "      <th>id</th>\n",
       "      <th>NAME</th>\n",
       "      <th>TotalPop</th>\n",
       "      <th>PopDevPc</th>\n",
       "      <th>DemPct</th>\n",
       "      <th>RepPct</th>\n",
       "      <th>WhitePct</th>\n",
       "      <th>Minority</th>\n",
       "      <th>BlackPct</th>\n",
       "      <th>Hispanic</th>\n",
       "      <th>PacificP</th>\n",
       "      <th>AsianPct</th>\n",
       "      <th>NativePc</th>\n",
       "      <th>TotalVAP</th>\n",
       "      <th>Margin</th>\n",
       "      <th>color</th>\n",
       "      <th>opacity</th>\n",
       "      <th>geometry</th>\n",
       "    </tr>\n",
       "  </thead>\n",
       "  <tbody>\n",
       "    <tr>\n",
       "      <th>0</th>\n",
       "      <td>1.0</td>\n",
       "      <td>1</td>\n",
       "      <td>736715.0</td>\n",
       "      <td>0.000000</td>\n",
       "      <td>0.481142</td>\n",
       "      <td>0.491911</td>\n",
       "      <td>0.782418</td>\n",
       "      <td>0.217582</td>\n",
       "      <td>0.070932</td>\n",
       "      <td>0.102396</td>\n",
       "      <td>0.001110</td>\n",
       "      <td>0.024325</td>\n",
       "      <td>0.019329</td>\n",
       "      <td>575451.0</td>\n",
       "      <td>-0.018858</td>\n",
       "      <td>#0000FF</td>\n",
       "      <td>0.5</td>\n",
       "      <td>POLYGON ((348358.235 4745226.043, 347592.443 4...</td>\n",
       "    </tr>\n",
       "    <tr>\n",
       "      <th>1</th>\n",
       "      <td>2.0</td>\n",
       "      <td>2</td>\n",
       "      <td>736715.0</td>\n",
       "      <td>0.000000</td>\n",
       "      <td>0.694890</td>\n",
       "      <td>0.281285</td>\n",
       "      <td>0.820014</td>\n",
       "      <td>0.179986</td>\n",
       "      <td>0.046568</td>\n",
       "      <td>0.056653</td>\n",
       "      <td>0.001187</td>\n",
       "      <td>0.057611</td>\n",
       "      <td>0.015589</td>\n",
       "      <td>584519.0</td>\n",
       "      <td>0.194890</td>\n",
       "      <td>#008000</td>\n",
       "      <td>0.5</td>\n",
       "      <td>POLYGON ((286255.899 4708986.006, 286384.418 4...</td>\n",
       "    </tr>\n",
       "    <tr>\n",
       "      <th>2</th>\n",
       "      <td>3.0</td>\n",
       "      <td>3</td>\n",
       "      <td>736716.0</td>\n",
       "      <td>0.000001</td>\n",
       "      <td>0.486566</td>\n",
       "      <td>0.483154</td>\n",
       "      <td>0.909480</td>\n",
       "      <td>0.090520</td>\n",
       "      <td>0.016465</td>\n",
       "      <td>0.026567</td>\n",
       "      <td>0.001084</td>\n",
       "      <td>0.024026</td>\n",
       "      <td>0.017500</td>\n",
       "      <td>580338.0</td>\n",
       "      <td>-0.013434</td>\n",
       "      <td>#8B008B</td>\n",
       "      <td>0.5</td>\n",
       "      <td>POLYGON ((166031.420 4975754.206, 166071.488 4...</td>\n",
       "    </tr>\n",
       "    <tr>\n",
       "      <th>3</th>\n",
       "      <td>4.0</td>\n",
       "      <td>4</td>\n",
       "      <td>736714.0</td>\n",
       "      <td>-0.000001</td>\n",
       "      <td>0.734541</td>\n",
       "      <td>0.241345</td>\n",
       "      <td>0.470504</td>\n",
       "      <td>0.529496</td>\n",
       "      <td>0.314626</td>\n",
       "      <td>0.153485</td>\n",
       "      <td>0.001446</td>\n",
       "      <td>0.051948</td>\n",
       "      <td>0.021316</td>\n",
       "      <td>558133.0</td>\n",
       "      <td>0.234541</td>\n",
       "      <td>#FF0000</td>\n",
       "      <td>0.5</td>\n",
       "      <td>POLYGON ((427547.312 4764043.628, 427625.398 4...</td>\n",
       "    </tr>\n",
       "    <tr>\n",
       "      <th>4</th>\n",
       "      <td>5.0</td>\n",
       "      <td>5</td>\n",
       "      <td>736715.0</td>\n",
       "      <td>0.000000</td>\n",
       "      <td>0.346921</td>\n",
       "      <td>0.630317</td>\n",
       "      <td>0.883632</td>\n",
       "      <td>0.116368</td>\n",
       "      <td>0.019442</td>\n",
       "      <td>0.047246</td>\n",
       "      <td>0.000904</td>\n",
       "      <td>0.030984</td>\n",
       "      <td>0.013157</td>\n",
       "      <td>578845.0</td>\n",
       "      <td>-0.153079</td>\n",
       "      <td>#FFD700</td>\n",
       "      <td>0.5</td>\n",
       "      <td>POLYGON ((383425.419 4738101.544, 383420.384 4...</td>\n",
       "    </tr>\n",
       "  </tbody>\n",
       "</table>\n",
       "</div>"
      ],
      "text/plain": [
       "    id NAME  TotalPop  PopDevPc    DemPct    RepPct  WhitePct  Minority  \\\n",
       "0  1.0    1  736715.0  0.000000  0.481142  0.491911  0.782418  0.217582   \n",
       "1  2.0    2  736715.0  0.000000  0.694890  0.281285  0.820014  0.179986   \n",
       "2  3.0    3  736716.0  0.000001  0.486566  0.483154  0.909480  0.090520   \n",
       "3  4.0    4  736714.0 -0.000001  0.734541  0.241345  0.470504  0.529496   \n",
       "4  5.0    5  736715.0  0.000000  0.346921  0.630317  0.883632  0.116368   \n",
       "\n",
       "   BlackPct  Hispanic  PacificP  AsianPct  NativePc  TotalVAP    Margin  \\\n",
       "0  0.070932  0.102396  0.001110  0.024325  0.019329  575451.0 -0.018858   \n",
       "1  0.046568  0.056653  0.001187  0.057611  0.015589  584519.0  0.194890   \n",
       "2  0.016465  0.026567  0.001084  0.024026  0.017500  580338.0 -0.013434   \n",
       "3  0.314626  0.153485  0.001446  0.051948  0.021316  558133.0  0.234541   \n",
       "4  0.019442  0.047246  0.000904  0.030984  0.013157  578845.0 -0.153079   \n",
       "\n",
       "     color opacity                                           geometry  \n",
       "0  #0000FF     0.5  POLYGON ((348358.235 4745226.043, 347592.443 4...  \n",
       "1  #008000     0.5  POLYGON ((286255.899 4708986.006, 286384.418 4...  \n",
       "2  #8B008B     0.5  POLYGON ((166031.420 4975754.206, 166071.488 4...  \n",
       "3  #FF0000     0.5  POLYGON ((427547.312 4764043.628, 427625.398 4...  \n",
       "4  #FFD700     0.5  POLYGON ((383425.419 4738101.544, 383420.384 4...  "
      ]
     },
     "execution_count": 50,
     "metadata": {},
     "output_type": "execute_result"
    }
   ],
   "source": [
    "cong_df.head()"
   ]
  },
  {
   "cell_type": "code",
   "execution_count": 51,
   "metadata": {},
   "outputs": [
    {
     "name": "stderr",
     "output_type": "stream",
     "text": [
      "100%|█████████████████████████████████████| 7093/7093 [00:04<00:00, 1642.96it/s]\n"
     ]
    },
    {
     "name": "stdout",
     "output_type": "stream",
     "text": [
      "There are 1 holes.\n"
     ]
    },
    {
     "data": {
      "text/plain": [
       "False"
      ]
     },
     "execution_count": 51,
     "metadata": {},
     "output_type": "execute_result"
    }
   ],
   "source": [
    "maup.doctor(election_df)"
   ]
  },
  {
   "cell_type": "code",
   "execution_count": 52,
   "metadata": {},
   "outputs": [
    {
     "data": {
      "text/plain": [
       "<Axes: >"
      ]
     },
     "execution_count": 52,
     "metadata": {},
     "output_type": "execute_result"
    },
    {
     "data": {
      "image/png": "[encoded data removed]",
      "text/plain": [
       "<Figure size 640x480 with 1 Axes>"
      ]
     },
     "metadata": {},
     "output_type": "display_data"
    }
   ],
   "source": [
    "election_df.plot()"
   ]
  },
  {
   "cell_type": "markdown",
   "metadata": {},
   "source": [
    "We can see the congressional map doesn't have the hole over Lake Winnebago, so we edit the add_district to account for this."
   ]
  },
  {
   "cell_type": "code",
   "execution_count": 54,
   "metadata": {},
   "outputs": [
    {
     "data": {
      "text/plain": [
       "<Axes: >"
      ]
     },
     "execution_count": 54,
     "metadata": {},
     "output_type": "execute_result"
    },
    {
     "data": {
      "image/png": "[encoded data removed]",
      "text/plain": [
       "<Figure size 640x480 with 1 Axes>"
      ]
     },
     "metadata": {},
     "output_type": "display_data"
    }
   ],
   "source": [
    "cong_df.plot()"
   ]
  },
  {
   "cell_type": "code",
   "execution_count": 55,
   "metadata": {},
   "outputs": [
    {
     "name": "stderr",
     "output_type": "stream",
     "text": [
      "100%|████████████████████████████████████████████| 8/8 [00:00<00:00, 478.64it/s]\n",
      "100%|█████████████████████████████████████████████| 8/8 [00:00<00:00, 88.45it/s]\n",
      "100%|█████████████████████████████████████████████| 8/8 [00:00<00:00, 29.90it/s]\n"
     ]
    }
   ],
   "source": [
    "election_df = add_district(cong_df, \"CD\", election_df, \"NAME\")"
   ]
  },
  {
   "cell_type": "code",
   "execution_count": 56,
   "metadata": {},
   "outputs": [
    {
     "data": {
      "text/html": [
       "<div>\n",
       "<style scoped>\n",
       "    .dataframe tbody tr th:only-of-type {\n",
       "        vertical-align: middle;\n",
       "    }\n",
       "\n",
       "    .dataframe tbody tr th {\n",
       "        vertical-align: top;\n",
       "    }\n",
       "\n",
       "    .dataframe thead th {\n",
       "        text-align: right;\n",
       "    }\n",
       "</style>\n",
       "<table border=\"1\" class=\"dataframe\">\n",
       "  <thead>\n",
       "    <tr style=\"text-align: right;\">\n",
       "      <th></th>\n",
       "      <th>OBJECTID</th>\n",
       "      <th>Shape_Leng</th>\n",
       "      <th>Shape_Area</th>\n",
       "      <th>SENATE</th>\n",
       "      <th>geometry</th>\n",
       "    </tr>\n",
       "  </thead>\n",
       "  <tbody>\n",
       "    <tr>\n",
       "      <th>0</th>\n",
       "      <td>1</td>\n",
       "      <td>2.566443e+06</td>\n",
       "      <td>5.155888e+10</td>\n",
       "      <td>1</td>\n",
       "      <td>MULTIPOLYGON (((498925.213 5016044.828, 498933...</td>\n",
       "    </tr>\n",
       "    <tr>\n",
       "      <th>1</th>\n",
       "      <td>2</td>\n",
       "      <td>1.473901e+06</td>\n",
       "      <td>5.524345e+10</td>\n",
       "      <td>2</td>\n",
       "      <td>MULTIPOLYGON (((348172.482 4997850.166, 351482...</td>\n",
       "    </tr>\n",
       "    <tr>\n",
       "      <th>2</th>\n",
       "      <td>3</td>\n",
       "      <td>1.400972e+05</td>\n",
       "      <td>6.946387e+08</td>\n",
       "      <td>3</td>\n",
       "      <td>POLYGON ((421158.383 4765580.221, 421159.691 4...</td>\n",
       "    </tr>\n",
       "    <tr>\n",
       "      <th>3</th>\n",
       "      <td>4</td>\n",
       "      <td>2.646938e+05</td>\n",
       "      <td>1.268358e+09</td>\n",
       "      <td>4</td>\n",
       "      <td>POLYGON ((418436.498 4782690.011, 419210.484 4...</td>\n",
       "    </tr>\n",
       "    <tr>\n",
       "      <th>4</th>\n",
       "      <td>5</td>\n",
       "      <td>3.463743e+05</td>\n",
       "      <td>2.417924e+09</td>\n",
       "      <td>5</td>\n",
       "      <td>POLYGON ((396616.279 4773271.884, 396617.907 4...</td>\n",
       "    </tr>\n",
       "  </tbody>\n",
       "</table>\n",
       "</div>"
      ],
      "text/plain": [
       "   OBJECTID    Shape_Leng    Shape_Area SENATE  \\\n",
       "0         1  2.566443e+06  5.155888e+10      1   \n",
       "1         2  1.473901e+06  5.524345e+10      2   \n",
       "2         3  1.400972e+05  6.946387e+08      3   \n",
       "3         4  2.646938e+05  1.268358e+09      4   \n",
       "4         5  3.463743e+05  2.417924e+09      5   \n",
       "\n",
       "                                            geometry  \n",
       "0  MULTIPOLYGON (((498925.213 5016044.828, 498933...  \n",
       "1  MULTIPOLYGON (((348172.482 4997850.166, 351482...  \n",
       "2  POLYGON ((421158.383 4765580.221, 421159.691 4...  \n",
       "3  POLYGON ((418436.498 4782690.011, 419210.484 4...  \n",
       "4  POLYGON ((396616.279 4773271.884, 396617.907 4...  "
      ]
     },
     "execution_count": 56,
     "metadata": {},
     "output_type": "execute_result"
    }
   ],
   "source": [
    "send.head()"
   ]
  },
  {
   "cell_type": "code",
   "execution_count": 57,
   "metadata": {},
   "outputs": [
    {
     "name": "stderr",
     "output_type": "stream",
     "text": [
      "100%|██████████████████████████████████████████| 33/33 [00:00<00:00, 240.92it/s]\n"
     ]
    },
    {
     "name": "stdout",
     "output_type": "stream",
     "text": [
      "There are 1 holes.\n",
      "Snapping all geometries to a grid with precision 10^( -5 ) to avoid GEOS errors.\n",
      "Identifying overlaps...\n"
     ]
    },
    {
     "name": "stderr",
     "output_type": "stream",
     "text": [
      "100%|██████████████████████████████████████████| 81/81 [00:00<00:00, 690.06it/s]"
     ]
    },
    {
     "name": "stdout",
     "output_type": "stream",
     "text": [
      "Resolving overlaps...\n"
     ]
    },
    {
     "name": "stderr",
     "output_type": "stream",
     "text": [
      "\n"
     ]
    },
    {
     "name": "stdout",
     "output_type": "stream",
     "text": [
      "1 gaps will remain unfilled, because they either are not simply connected or exceed the area threshold.\n",
      "Filling gaps...\n"
     ]
    },
    {
     "name": "stderr",
     "output_type": "stream",
     "text": [
      "Gaps to simplify: 0it [00:00, ?it/s]\n",
      "Gaps to fill: 0it [00:00, ?it/s]\n",
      "100%|██████████████████████████████████████████| 33/33 [00:00<00:00, 238.97it/s]\n"
     ]
    },
    {
     "name": "stdout",
     "output_type": "stream",
     "text": [
      "There are 1 holes.\n",
      "There was some issue.  Check it out!\n"
     ]
    },
    {
     "name": "stderr",
     "output_type": "stream",
     "text": [
      "100%|██████████████████████████████████████████| 33/33 [00:00<00:00, 259.60it/s]\n",
      "100%|███████████████████████████████████████████| 33/33 [00:01<00:00, 28.60it/s]\n"
     ]
    }
   ],
   "source": [
    "election_df = add_district(send, \"SEND\", election_df, \"SENATE\")"
   ]
  },
  {
   "cell_type": "code",
   "execution_count": 58,
   "metadata": {},
   "outputs": [
    {
     "data": {
      "text/html": [
       "<div>\n",
       "<style scoped>\n",
       "    .dataframe tbody tr th:only-of-type {\n",
       "        vertical-align: middle;\n",
       "    }\n",
       "\n",
       "    .dataframe tbody tr th {\n",
       "        vertical-align: top;\n",
       "    }\n",
       "\n",
       "    .dataframe thead th {\n",
       "        text-align: right;\n",
       "    }\n",
       "</style>\n",
       "<table border=\"1\" class=\"dataframe\">\n",
       "  <thead>\n",
       "    <tr style=\"text-align: right;\">\n",
       "      <th></th>\n",
       "      <th>OBJECTID</th>\n",
       "      <th>Shape_Leng</th>\n",
       "      <th>Shape_Area</th>\n",
       "      <th>ASSEMBLY</th>\n",
       "      <th>SENATE</th>\n",
       "      <th>geometry</th>\n",
       "    </tr>\n",
       "  </thead>\n",
       "  <tbody>\n",
       "    <tr>\n",
       "      <th>0</th>\n",
       "      <td>1</td>\n",
       "      <td>1.873849e+06</td>\n",
       "      <td>2.581278e+10</td>\n",
       "      <td>1</td>\n",
       "      <td>1</td>\n",
       "      <td>MULTIPOLYGON (((498925.213 5016044.828, 498933...</td>\n",
       "    </tr>\n",
       "    <tr>\n",
       "      <th>1</th>\n",
       "      <td>2</td>\n",
       "      <td>7.253799e+05</td>\n",
       "      <td>1.282797e+10</td>\n",
       "      <td>2</td>\n",
       "      <td>1</td>\n",
       "      <td>POLYGON ((419092.784 4921808.321, 420036.215 4...</td>\n",
       "    </tr>\n",
       "    <tr>\n",
       "      <th>2</th>\n",
       "      <td>3</td>\n",
       "      <td>6.075071e+05</td>\n",
       "      <td>1.291813e+10</td>\n",
       "      <td>3</td>\n",
       "      <td>1</td>\n",
       "      <td>POLYGON ((387892.175 4899943.801, 387958.589 4...</td>\n",
       "    </tr>\n",
       "    <tr>\n",
       "      <th>3</th>\n",
       "      <td>4</td>\n",
       "      <td>8.283451e+05</td>\n",
       "      <td>1.222152e+10</td>\n",
       "      <td>4</td>\n",
       "      <td>2</td>\n",
       "      <td>MULTIPOLYGON (((393617.849 4986900.183, 393782...</td>\n",
       "    </tr>\n",
       "    <tr>\n",
       "      <th>4</th>\n",
       "      <td>5</td>\n",
       "      <td>5.392780e+05</td>\n",
       "      <td>7.466785e+09</td>\n",
       "      <td>5</td>\n",
       "      <td>2</td>\n",
       "      <td>POLYGON ((382136.945 4938423.769, 382156.045 4...</td>\n",
       "    </tr>\n",
       "  </tbody>\n",
       "</table>\n",
       "</div>"
      ],
      "text/plain": [
       "   OBJECTID    Shape_Leng    Shape_Area ASSEMBLY SENATE  \\\n",
       "0         1  1.873849e+06  2.581278e+10        1      1   \n",
       "1         2  7.253799e+05  1.282797e+10        2      1   \n",
       "2         3  6.075071e+05  1.291813e+10        3      1   \n",
       "3         4  8.283451e+05  1.222152e+10        4      2   \n",
       "4         5  5.392780e+05  7.466785e+09        5      2   \n",
       "\n",
       "                                            geometry  \n",
       "0  MULTIPOLYGON (((498925.213 5016044.828, 498933...  \n",
       "1  POLYGON ((419092.784 4921808.321, 420036.215 4...  \n",
       "2  POLYGON ((387892.175 4899943.801, 387958.589 4...  \n",
       "3  MULTIPOLYGON (((393617.849 4986900.183, 393782...  \n",
       "4  POLYGON ((382136.945 4938423.769, 382156.045 4...  "
      ]
     },
     "execution_count": 58,
     "metadata": {},
     "output_type": "execute_result"
    }
   ],
   "source": [
    "hdist.head()"
   ]
  },
  {
   "cell_type": "code",
   "execution_count": 59,
   "metadata": {},
   "outputs": [
    {
     "name": "stderr",
     "output_type": "stream",
     "text": [
      "100%|██████████████████████████████████████████| 99/99 [00:00<00:00, 451.47it/s]\n"
     ]
    },
    {
     "name": "stdout",
     "output_type": "stream",
     "text": [
      "There are 1 holes.\n",
      "Snapping all geometries to a grid with precision 10^( -5 ) to avoid GEOS errors.\n",
      "Identifying overlaps...\n"
     ]
    },
    {
     "name": "stderr",
     "output_type": "stream",
     "text": [
      "100%|███████████████████████████████████████| 147/147 [00:00<00:00, 1350.61it/s]"
     ]
    },
    {
     "name": "stdout",
     "output_type": "stream",
     "text": [
      "Resolving overlaps...\n"
     ]
    },
    {
     "name": "stderr",
     "output_type": "stream",
     "text": [
      "\n"
     ]
    },
    {
     "name": "stdout",
     "output_type": "stream",
     "text": [
      "1 gaps will remain unfilled, because they either are not simply connected or exceed the area threshold.\n",
      "Filling gaps...\n"
     ]
    },
    {
     "name": "stderr",
     "output_type": "stream",
     "text": [
      "Gaps to simplify: 0it [00:00, ?it/s]\n",
      "Gaps to fill: 0it [00:00, ?it/s]\n",
      "100%|██████████████████████████████████████████| 99/99 [00:00<00:00, 450.42it/s]\n"
     ]
    },
    {
     "name": "stdout",
     "output_type": "stream",
     "text": [
      "There are 1 holes.\n",
      "There was some issue.  Check it out!\n"
     ]
    },
    {
     "name": "stderr",
     "output_type": "stream",
     "text": [
      "100%|██████████████████████████████████████████| 99/99 [00:00<00:00, 678.22it/s]\n",
      "100%|███████████████████████████████████████████| 99/99 [00:01<00:00, 69.96it/s]\n"
     ]
    }
   ],
   "source": [
    "election_df = add_district(hdist, \"HDIST\", election_df, \"ASSEMBLY\")"
   ]
  },
  {
   "cell_type": "code",
   "execution_count": 60,
   "metadata": {},
   "outputs": [
    {
     "data": {
      "text/plain": [
       "Index(['2MOREVAP', 'AMINVAP', 'ASIANVAP', 'ATG18D', 'ATG18O', 'ATG18R', 'BVAP',\n",
       "       'CNTY_FIPS', 'CNTY_NAME', 'CTV', 'GOV18D', 'GOV18O', 'GOV18R', 'HISP',\n",
       "       'HVAP', 'H_2MORE', 'H_AMIN', 'H_ASIAN', 'H_BLACK', 'H_NHPI', 'H_OTHER',\n",
       "       'H_WHITE', 'LABEL', 'MCD_FIPS', 'MCD_NAME', 'NHPIVAP', 'NH_2MORE',\n",
       "       'NH_AMIN', 'NH_ASIAN', 'NH_BLACK', 'NH_NHPI', 'NH_OTHER', 'NH_WHITE',\n",
       "       'OTHERVAP', 'PERSONS', 'PRE16D', 'PRE16O', 'PRE16R', 'PRE20D', 'PRE20O',\n",
       "       'PRE20R', 'RV', 'SOS18D', 'SOS18O', 'SOS18R', 'TOTPOP', 'TRE18D',\n",
       "       'TRE18O', 'TRE18R', 'USS16D', 'USS16O', 'USS16R', 'USS18D', 'USS18O',\n",
       "       'USS18R', 'VAP', 'WARDID', 'WVAP', 'geometry', 'CD', 'SEND', 'HDIST'],\n",
       "      dtype='object')"
      ]
     },
     "execution_count": 60,
     "metadata": {},
     "output_type": "execute_result"
    }
   ],
   "source": [
    "election_df.columns"
   ]
  },
  {
   "cell_type": "code",
   "execution_count": 61,
   "metadata": {},
   "outputs": [
    {
     "name": "stderr",
     "output_type": "stream",
     "text": [
      "100%|█████████████████████████████████████| 7093/7093 [00:04<00:00, 1655.29it/s]\n"
     ]
    },
    {
     "name": "stdout",
     "output_type": "stream",
     "text": [
      "There are 1 holes.\n"
     ]
    },
    {
     "data": {
      "text/plain": [
       "False"
      ]
     },
     "execution_count": 61,
     "metadata": {},
     "output_type": "execute_result"
    }
   ],
   "source": [
    "maup.doctor(election_df)"
   ]
  },
  {
   "cell_type": "markdown",
   "metadata": {},
   "source": [
    "### We need to remove the precinct that didn't get assigned to the districts:"
   ]
  },
  {
   "cell_type": "code",
   "execution_count": 63,
   "metadata": {},
   "outputs": [
    {
     "data": {
      "text/html": [
       "<div>\n",
       "<style scoped>\n",
       "    .dataframe tbody tr th:only-of-type {\n",
       "        vertical-align: middle;\n",
       "    }\n",
       "\n",
       "    .dataframe tbody tr th {\n",
       "        vertical-align: top;\n",
       "    }\n",
       "\n",
       "    .dataframe thead th {\n",
       "        text-align: right;\n",
       "    }\n",
       "</style>\n",
       "<table border=\"1\" class=\"dataframe\">\n",
       "  <thead>\n",
       "    <tr style=\"text-align: right;\">\n",
       "      <th></th>\n",
       "      <th>2MOREVAP</th>\n",
       "      <th>AMINVAP</th>\n",
       "      <th>ASIANVAP</th>\n",
       "      <th>ATG18D</th>\n",
       "      <th>ATG18O</th>\n",
       "      <th>ATG18R</th>\n",
       "      <th>BVAP</th>\n",
       "      <th>CNTY_FIPS</th>\n",
       "      <th>CNTY_NAME</th>\n",
       "      <th>CTV</th>\n",
       "      <th>...</th>\n",
       "      <th>USS18D</th>\n",
       "      <th>USS18O</th>\n",
       "      <th>USS18R</th>\n",
       "      <th>VAP</th>\n",
       "      <th>WARDID</th>\n",
       "      <th>WVAP</th>\n",
       "      <th>geometry</th>\n",
       "      <th>CD</th>\n",
       "      <th>SEND</th>\n",
       "      <th>HDIST</th>\n",
       "    </tr>\n",
       "  </thead>\n",
       "  <tbody>\n",
       "    <tr>\n",
       "      <th>6678</th>\n",
       "      <td>0.0</td>\n",
       "      <td>0.0</td>\n",
       "      <td>0.0</td>\n",
       "      <td>0.0</td>\n",
       "      <td>0.0</td>\n",
       "      <td>0.0</td>\n",
       "      <td>0.0</td>\n",
       "      <td>55025</td>\n",
       "      <td>DANE</td>\n",
       "      <td>C</td>\n",
       "      <td>...</td>\n",
       "      <td>0.0</td>\n",
       "      <td>0.0</td>\n",
       "      <td>0.0</td>\n",
       "      <td>0.0</td>\n",
       "      <td>0020</td>\n",
       "      <td>0.0</td>\n",
       "      <td>POLYGON EMPTY</td>\n",
       "      <td>NaN</td>\n",
       "      <td>NaN</td>\n",
       "      <td>NaN</td>\n",
       "    </tr>\n",
       "  </tbody>\n",
       "</table>\n",
       "<p>1 rows × 62 columns</p>\n",
       "</div>"
      ],
      "text/plain": [
       "      2MOREVAP  AMINVAP  ASIANVAP  ATG18D  ATG18O  ATG18R  BVAP CNTY_FIPS  \\\n",
       "6678       0.0      0.0       0.0     0.0     0.0     0.0   0.0     55025   \n",
       "\n",
       "     CNTY_NAME CTV  ...  USS18D  USS18O  USS18R  VAP  WARDID  WVAP  \\\n",
       "6678      DANE   C  ...     0.0     0.0     0.0  0.0    0020   0.0   \n",
       "\n",
       "           geometry   CD  SEND  HDIST  \n",
       "6678  POLYGON EMPTY  NaN   NaN    NaN  \n",
       "\n",
       "[1 rows x 62 columns]"
      ]
     },
     "execution_count": 63,
     "metadata": {},
     "output_type": "execute_result"
    }
   ],
   "source": [
    "election_df[election_df['SEND'].isna()]"
   ]
  },
  {
   "cell_type": "code",
   "execution_count": 64,
   "metadata": {},
   "outputs": [
    {
     "data": {
      "text/html": [
       "<div>\n",
       "<style scoped>\n",
       "    .dataframe tbody tr th:only-of-type {\n",
       "        vertical-align: middle;\n",
       "    }\n",
       "\n",
       "    .dataframe tbody tr th {\n",
       "        vertical-align: top;\n",
       "    }\n",
       "\n",
       "    .dataframe thead th {\n",
       "        text-align: right;\n",
       "    }\n",
       "</style>\n",
       "<table border=\"1\" class=\"dataframe\">\n",
       "  <thead>\n",
       "    <tr style=\"text-align: right;\">\n",
       "      <th></th>\n",
       "      <th>2MOREVAP</th>\n",
       "      <th>AMINVAP</th>\n",
       "      <th>ASIANVAP</th>\n",
       "      <th>ATG18D</th>\n",
       "      <th>ATG18O</th>\n",
       "      <th>ATG18R</th>\n",
       "      <th>BVAP</th>\n",
       "      <th>CNTY_FIPS</th>\n",
       "      <th>CNTY_NAME</th>\n",
       "      <th>CTV</th>\n",
       "      <th>...</th>\n",
       "      <th>USS18D</th>\n",
       "      <th>USS18O</th>\n",
       "      <th>USS18R</th>\n",
       "      <th>VAP</th>\n",
       "      <th>WARDID</th>\n",
       "      <th>WVAP</th>\n",
       "      <th>geometry</th>\n",
       "      <th>CD</th>\n",
       "      <th>SEND</th>\n",
       "      <th>HDIST</th>\n",
       "    </tr>\n",
       "  </thead>\n",
       "  <tbody>\n",
       "    <tr>\n",
       "      <th>6678</th>\n",
       "      <td>0.0</td>\n",
       "      <td>0.0</td>\n",
       "      <td>0.0</td>\n",
       "      <td>0.0</td>\n",
       "      <td>0.0</td>\n",
       "      <td>0.0</td>\n",
       "      <td>0.0</td>\n",
       "      <td>55025</td>\n",
       "      <td>DANE</td>\n",
       "      <td>C</td>\n",
       "      <td>...</td>\n",
       "      <td>0.0</td>\n",
       "      <td>0.0</td>\n",
       "      <td>0.0</td>\n",
       "      <td>0.0</td>\n",
       "      <td>0020</td>\n",
       "      <td>0.0</td>\n",
       "      <td>POLYGON EMPTY</td>\n",
       "      <td>NaN</td>\n",
       "      <td>NaN</td>\n",
       "      <td>NaN</td>\n",
       "    </tr>\n",
       "  </tbody>\n",
       "</table>\n",
       "<p>1 rows × 62 columns</p>\n",
       "</div>"
      ],
      "text/plain": [
       "      2MOREVAP  AMINVAP  ASIANVAP  ATG18D  ATG18O  ATG18R  BVAP CNTY_FIPS  \\\n",
       "6678       0.0      0.0       0.0     0.0     0.0     0.0   0.0     55025   \n",
       "\n",
       "     CNTY_NAME CTV  ...  USS18D  USS18O  USS18R  VAP  WARDID  WVAP  \\\n",
       "6678      DANE   C  ...     0.0     0.0     0.0  0.0    0020   0.0   \n",
       "\n",
       "           geometry   CD  SEND  HDIST  \n",
       "6678  POLYGON EMPTY  NaN   NaN    NaN  \n",
       "\n",
       "[1 rows x 62 columns]"
      ]
     },
     "execution_count": 64,
     "metadata": {},
     "output_type": "execute_result"
    }
   ],
   "source": [
    "election_df[election_df['CD'].isna()]"
   ]
  },
  {
   "cell_type": "code",
   "execution_count": 65,
   "metadata": {},
   "outputs": [
    {
     "data": {
      "text/html": [
       "<div>\n",
       "<style scoped>\n",
       "    .dataframe tbody tr th:only-of-type {\n",
       "        vertical-align: middle;\n",
       "    }\n",
       "\n",
       "    .dataframe tbody tr th {\n",
       "        vertical-align: top;\n",
       "    }\n",
       "\n",
       "    .dataframe thead th {\n",
       "        text-align: right;\n",
       "    }\n",
       "</style>\n",
       "<table border=\"1\" class=\"dataframe\">\n",
       "  <thead>\n",
       "    <tr style=\"text-align: right;\">\n",
       "      <th></th>\n",
       "      <th>2MOREVAP</th>\n",
       "      <th>AMINVAP</th>\n",
       "      <th>ASIANVAP</th>\n",
       "      <th>ATG18D</th>\n",
       "      <th>ATG18O</th>\n",
       "      <th>ATG18R</th>\n",
       "      <th>BVAP</th>\n",
       "      <th>CNTY_FIPS</th>\n",
       "      <th>CNTY_NAME</th>\n",
       "      <th>CTV</th>\n",
       "      <th>...</th>\n",
       "      <th>USS18D</th>\n",
       "      <th>USS18O</th>\n",
       "      <th>USS18R</th>\n",
       "      <th>VAP</th>\n",
       "      <th>WARDID</th>\n",
       "      <th>WVAP</th>\n",
       "      <th>geometry</th>\n",
       "      <th>CD</th>\n",
       "      <th>SEND</th>\n",
       "      <th>HDIST</th>\n",
       "    </tr>\n",
       "  </thead>\n",
       "  <tbody>\n",
       "    <tr>\n",
       "      <th>6678</th>\n",
       "      <td>0.0</td>\n",
       "      <td>0.0</td>\n",
       "      <td>0.0</td>\n",
       "      <td>0.0</td>\n",
       "      <td>0.0</td>\n",
       "      <td>0.0</td>\n",
       "      <td>0.0</td>\n",
       "      <td>55025</td>\n",
       "      <td>DANE</td>\n",
       "      <td>C</td>\n",
       "      <td>...</td>\n",
       "      <td>0.0</td>\n",
       "      <td>0.0</td>\n",
       "      <td>0.0</td>\n",
       "      <td>0.0</td>\n",
       "      <td>0020</td>\n",
       "      <td>0.0</td>\n",
       "      <td>POLYGON EMPTY</td>\n",
       "      <td>NaN</td>\n",
       "      <td>NaN</td>\n",
       "      <td>NaN</td>\n",
       "    </tr>\n",
       "  </tbody>\n",
       "</table>\n",
       "<p>1 rows × 62 columns</p>\n",
       "</div>"
      ],
      "text/plain": [
       "      2MOREVAP  AMINVAP  ASIANVAP  ATG18D  ATG18O  ATG18R  BVAP CNTY_FIPS  \\\n",
       "6678       0.0      0.0       0.0     0.0     0.0     0.0   0.0     55025   \n",
       "\n",
       "     CNTY_NAME CTV  ...  USS18D  USS18O  USS18R  VAP  WARDID  WVAP  \\\n",
       "6678      DANE   C  ...     0.0     0.0     0.0  0.0    0020   0.0   \n",
       "\n",
       "           geometry   CD  SEND  HDIST  \n",
       "6678  POLYGON EMPTY  NaN   NaN    NaN  \n",
       "\n",
       "[1 rows x 62 columns]"
      ]
     },
     "execution_count": 65,
     "metadata": {},
     "output_type": "execute_result"
    }
   ],
   "source": [
    "election_df[election_df['HDIST'].isna()]"
   ]
  },
  {
   "cell_type": "markdown",
   "metadata": {},
   "source": [
    "It's OK to remove b/c it has no population:"
   ]
  },
  {
   "cell_type": "code",
   "execution_count": 67,
   "metadata": {},
   "outputs": [
    {
     "data": {
      "text/plain": [
       "6678    0.0\n",
       "Name: TOTPOP, dtype: float64"
      ]
     },
     "execution_count": 67,
     "metadata": {},
     "output_type": "execute_result"
    }
   ],
   "source": [
    "election_df[election_df['HDIST'].isna()]['TOTPOP']"
   ]
  },
  {
   "cell_type": "code",
   "execution_count": 68,
   "metadata": {},
   "outputs": [],
   "source": [
    "election_df = election_df.dropna(subset=['SEND'])"
   ]
  },
  {
   "cell_type": "markdown",
   "metadata": {},
   "source": [
    "### Put the base precinct year after the precinct information column"
   ]
  },
  {
   "cell_type": "code",
   "execution_count": 70,
   "metadata": {},
   "outputs": [],
   "source": [
    "base_columns = {}\n",
    "if 'COUNTYFP' + year not in election_df.columns:\n",
    "    base_columns = {\n",
    "        'CNTY_FIPS':'CNTY_FIPS'+year, \n",
    "        'CNTY_NAME':'CNTY_NAME'+year, \n",
    "        'MCD_FIPS':'MCD_FIPS'+year,\n",
    "        'MCD_NAME':'MCD_NAME'+year,\n",
    "        'CTV':'CTV'+year,\n",
    "        'WARDID':'WARDID'+year,\n",
    "        'LABEL':'LABEL'+year,\n",
    "        'PERSONS':'PERSONS'+year,\n",
    "        'RV':'RV'+year,}\n",
    "election_df.rename(columns=base_columns, inplace = True)"
   ]
  },
  {
   "cell_type": "code",
   "execution_count": 71,
   "metadata": {},
   "outputs": [
    {
     "data": {
      "text/plain": [
       "Index(['2MOREVAP', 'AMINVAP', 'ASIANVAP', 'ATG18D', 'ATG18O', 'ATG18R', 'BVAP',\n",
       "       'CNTY_FIPS20', 'CNTY_NAME20', 'CTV20', 'GOV18D', 'GOV18O', 'GOV18R',\n",
       "       'HISP', 'HVAP', 'H_2MORE', 'H_AMIN', 'H_ASIAN', 'H_BLACK', 'H_NHPI',\n",
       "       'H_OTHER', 'H_WHITE', 'LABEL20', 'MCD_FIPS20', 'MCD_NAME20', 'NHPIVAP',\n",
       "       'NH_2MORE', 'NH_AMIN', 'NH_ASIAN', 'NH_BLACK', 'NH_NHPI', 'NH_OTHER',\n",
       "       'NH_WHITE', 'OTHERVAP', 'PERSONS20', 'PRE16D', 'PRE16O', 'PRE16R',\n",
       "       'PRE20D', 'PRE20O', 'PRE20R', 'RV20', 'SOS18D', 'SOS18O', 'SOS18R',\n",
       "       'TOTPOP', 'TRE18D', 'TRE18O', 'TRE18R', 'USS16D', 'USS16O', 'USS16R',\n",
       "       'USS18D', 'USS18O', 'USS18R', 'VAP', 'WARDID20', 'WVAP', 'geometry',\n",
       "       'CD', 'SEND', 'HDIST'],\n",
       "      dtype='object')"
      ]
     },
     "execution_count": 71,
     "metadata": {},
     "output_type": "execute_result"
    }
   ],
   "source": [
    "election_df.columns"
   ]
  },
  {
   "cell_type": "code",
   "execution_count": 72,
   "metadata": {},
   "outputs": [],
   "source": [
    "# reorder the columns\n",
    "fixed_columns = [\n",
    "    'CNTY_FIPS'+year, \n",
    "    'CNTY_NAME'+year, \n",
    "    'MCD_FIPS'+year,\n",
    "    'MCD_NAME'+year,\n",
    "    'CTV'+year,\n",
    "    'WARDID'+year,\n",
    "    'LABEL'+year,\n",
    "    'PERSONS'+year,\n",
    "    'RV'+year, \n",
    "    'CD',\n",
    "    'SEND',\n",
    "    'HDIST',\n",
    "    'TOTPOP',\n",
    "    'NH_2MORE',\n",
    "    'NH_AMIN',\n",
    "    'NH_ASIAN',\n",
    "    'NH_BLACK',\n",
    "    'NH_NHPI',\n",
    "    'NH_OTHER',\n",
    "    'NH_WHITE',\n",
    "    'HISP',\n",
    "    'H_AMIN',\n",
    "    'H_ASIAN',\n",
    "    'H_BLACK',\n",
    "    'H_NHPI',\n",
    "    'H_OTHER',\n",
    "    'H_WHITE',\n",
    "    'H_2MORE',\n",
    "    'VAP',\n",
    "    'HVAP',\n",
    "    'WVAP',\n",
    "    'BVAP',\n",
    "    'AMINVAP',\n",
    "    'ASIANVAP',\n",
    "    'NHPIVAP',\n",
    "    'OTHERVAP',\n",
    "    '2MOREVAP']\n",
    "\n",
    "election_columns = [col for col in election_df.columns if col not in fixed_columns]\n",
    "final_col = fixed_columns + election_columns\n",
    "election_df = election_df[final_col]"
   ]
  },
  {
   "cell_type": "code",
   "execution_count": 73,
   "metadata": {},
   "outputs": [],
   "source": [
    "import os\n",
    "\n",
    "# store the result in directory \"wi\"\n",
    "directory = \"./{}\".format(state_ab)\n",
    "if not os.path.exists(directory):\n",
    "    os.makedirs(directory)\n",
    "\n",
    "shapefile_path = \"./{}/{}.shp\".format(state_ab, state_ab)\n",
    "geojson_path = './{}/{}.geojson'.format(state_ab, state_ab)\n",
    "json_path = \"./{}.json\".format(state_ab, state_ab)\n",
    "\n",
    "# Check if the shapefile or geojson file already exists\n",
    "if os.path.exists(shapefile_path):\n",
    "    os.remove(shapefile_path)\n",
    "if os.path.exists(geojson_path):\n",
    "    os.remove(geojson_path)\n",
    "\n",
    "election_df.to_file(shapefile_path)\n",
    "election_df.to_file(geojson_path, driver='GeoJSON')\n",
    "\n",
    "# Only do once to build json and read from file when generating ensembles\n",
    "graph = Graph.from_file(shapefile_path, ignore_errors=True)\n",
    "graph.to_json(json_path)"
   ]
  },
  {
   "cell_type": "code",
   "execution_count": 74,
   "metadata": {},
   "outputs": [
    {
     "data": {
      "text/plain": [
       "<Axes: >"
      ]
     },
     "execution_count": 74,
     "metadata": {},
     "output_type": "execute_result"
    },
    {
     "data": {
      "image/png": "[encoded data removed]",
      "text/plain": [
       "<Figure size 640x480 with 1 Axes>"
      ]
     },
     "metadata": {},
     "output_type": "display_data"
    }
   ],
   "source": [
    "shapefile_path = \"./{}/{}.shp\".format(state_ab, state_ab)\n",
    "shape=gpd.read_file(shapefile_path)\n",
    "shape.plot()"
   ]
  },
  {
   "cell_type": "code",
   "execution_count": 75,
   "metadata": {},
   "outputs": [
    {
     "data": {
      "text/html": [
       "<div>\n",
       "<style scoped>\n",
       "    .dataframe tbody tr th:only-of-type {\n",
       "        vertical-align: middle;\n",
       "    }\n",
       "\n",
       "    .dataframe tbody tr th {\n",
       "        vertical-align: top;\n",
       "    }\n",
       "\n",
       "    .dataframe thead th {\n",
       "        text-align: right;\n",
       "    }\n",
       "</style>\n",
       "<table border=\"1\" class=\"dataframe\">\n",
       "  <thead>\n",
       "    <tr style=\"text-align: right;\">\n",
       "      <th></th>\n",
       "      <th>CNTY_FIPS20</th>\n",
       "      <th>CNTY_NAME20</th>\n",
       "      <th>MCD_FIPS20</th>\n",
       "      <th>MCD_NAME20</th>\n",
       "      <th>CTV20</th>\n",
       "      <th>WARDID20</th>\n",
       "      <th>LABEL20</th>\n",
       "      <th>PERSONS20</th>\n",
       "      <th>RV20</th>\n",
       "      <th>CD</th>\n",
       "      <th>...</th>\n",
       "      <th>TRE18D</th>\n",
       "      <th>TRE18O</th>\n",
       "      <th>TRE18R</th>\n",
       "      <th>USS16D</th>\n",
       "      <th>USS16O</th>\n",
       "      <th>USS16R</th>\n",
       "      <th>USS18D</th>\n",
       "      <th>USS18O</th>\n",
       "      <th>USS18R</th>\n",
       "      <th>geometry</th>\n",
       "    </tr>\n",
       "  </thead>\n",
       "  <tbody>\n",
       "  </tbody>\n",
       "</table>\n",
       "<p>0 rows × 62 columns</p>\n",
       "</div>"
      ],
      "text/plain": [
       "Empty GeoDataFrame\n",
       "Columns: [CNTY_FIPS20, CNTY_NAME20, MCD_FIPS20, MCD_NAME20, CTV20, WARDID20, LABEL20, PERSONS20, RV20, CD, SEND, HDIST, TOTPOP, NH_2MORE, NH_AMIN, NH_ASIAN, NH_BLACK, NH_NHPI, NH_OTHER, NH_WHITE, HISP, H_AMIN, H_ASIAN, H_BLACK, H_NHPI, H_OTHER, H_WHITE, H_2MORE, VAP, HVAP, WVAP, BVAP, AMINVAP, ASIANVAP, NHPIVAP, OTHERVAP, 2MOREVAP, ATG18D, ATG18O, ATG18R, GOV18D, GOV18O, GOV18R, PRE16D, PRE16O, PRE16R, PRE20D, PRE20O, PRE20R, SOS18D, SOS18O, SOS18R, TRE18D, TRE18O, TRE18R, USS16D, USS16O, USS16R, USS18D, USS18O, USS18R, geometry]\n",
       "Index: []\n",
       "\n",
       "[0 rows x 62 columns]"
      ]
     },
     "execution_count": 75,
     "metadata": {},
     "output_type": "execute_result"
    }
   ],
   "source": [
    "election_df[election_df['SEND'].isna()]"
   ]
  },
  {
   "cell_type": "code",
   "execution_count": null,
   "metadata": {},
   "outputs": [],
   "source": []
  }
 ],
 "metadata": {
  "kernelspec": {
   "display_name": "gerry",
   "language": "python",
   "name": "gerry"
  },
  "language_info": {
   "codemirror_mode": {
    "name": "ipython",
    "version": 3
   },
   "file_extension": ".py",
   "mimetype": "text/x-python",
   "name": "python",
   "nbconvert_exporter": "python",
   "pygments_lexer": "ipython3",
   "version": "3.11.4"
  }
 },
 "nbformat": 4,
 "nbformat_minor": 4
}
